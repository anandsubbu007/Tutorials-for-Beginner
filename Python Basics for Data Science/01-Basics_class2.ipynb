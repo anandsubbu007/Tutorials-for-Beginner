{
 "cells": [
  {
   "cell_type": "markdown",
   "metadata": {},
   "source": [
    "### Mutable - Dictionaries"
   ]
  },
  {
   "cell_type": "code",
   "execution_count": 102,
   "metadata": {},
   "outputs": [
    {
     "name": "stdout",
     "output_type": "stream",
     "text": [
      "<class 'dict'>\n",
      "Printing the dictionary {'Bangalore': 32, 'Paris': 34, 'London': 38}\n"
     ]
    }
   ],
   "source": [
    "Temperatures = dict() # creating a dictionary\n",
    "print(type(Temperatures))\n",
    "Temperatures = {} # Another way to create dictionary\n",
    "Temperatures = {\"Bangalore\":32,\"Paris\":34,\"London\":38}\n",
    "print(\"Printing the dictionary\", Temperatures)"
   ]
  },
  {
   "cell_type": "code",
   "execution_count": 103,
   "metadata": {},
   "outputs": [
    {
     "name": "stdout",
     "output_type": "stream",
     "text": [
      "Printing the dictionary after changing the value of Bangalore {'Bangalore': 35, 'Paris': 34, 'London': 38}\n"
     ]
    }
   ],
   "source": [
    "Temperatures['Bangalore'] = 35 # Dictionary is mutable\n",
    "print(\"Printing the dictionary after changing the value of Bangalore\", Temperatures)"
   ]
  },
  {
   "cell_type": "code",
   "execution_count": 83,
   "metadata": {},
   "outputs": [
    {
     "data": {
      "text/plain": [
       "{'Paris': 34, 'London': 38, 'San Fancisco': 35}"
      ]
     },
     "execution_count": 83,
     "metadata": {},
     "output_type": "execute_result"
    }
   ],
   "source": [
    "del(Temperatures[\"Bangalore\"]) # deleting a key from a list\n",
    "Temperatures\n"
   ]
  },
  {
   "cell_type": "code",
   "execution_count": 104,
   "metadata": {},
   "outputs": [],
   "source": [
    "Temperatures['Goa'] = 28"
   ]
  },
  {
   "cell_type": "code",
   "execution_count": 105,
   "metadata": {},
   "outputs": [
    {
     "data": {
      "text/plain": [
       "{'Bangalore': 35, 'Paris': 34, 'London': 38, 'Goa': 28}"
      ]
     },
     "execution_count": 105,
     "metadata": {},
     "output_type": "execute_result"
    }
   ],
   "source": [
    "Temperatures"
   ]
  },
  {
   "cell_type": "code",
   "execution_count": 106,
   "metadata": {},
   "outputs": [
    {
     "name": "stdout",
     "output_type": "stream",
     "text": [
      "dict_keys(['Bangalore', 'Paris', 'London', 'Goa'])\n",
      "dict_values([35, 34, 38, 28])\n",
      "dict_items([('Bangalore', 35), ('Paris', 34), ('London', 38), ('Goa', 28)])\n"
     ]
    }
   ],
   "source": [
    "print(Temperatures.keys())\n",
    "print(Temperatures.values())\n",
    "print(Temperatures.items())"
   ]
  },
  {
   "cell_type": "code",
   "execution_count": 117,
   "metadata": {},
   "outputs": [
    {
     "name": "stdout",
     "output_type": "stream",
     "text": [
      "Bangalore 35\n",
      "Paris 34\n",
      "London 38\n"
     ]
    }
   ],
   "source": [
    "# Usage of function items()\n",
    "for k,v in Temperatures.items():\n",
    "    print(k,v)"
   ]
  },
  {
   "cell_type": "code",
   "execution_count": 108,
   "metadata": {},
   "outputs": [
    {
     "name": "stdout",
     "output_type": "stream",
     "text": [
      "1 a\n",
      "2 b\n",
      "3 c\n",
      "4 d\n"
     ]
    }
   ],
   "source": [
    "# trick with zip()\n",
    "a = [1,2,3,4]\n",
    "b = ['a','b','c','d']\n",
    "for i,j in zip(a,b):\n",
    "    print(i,j)"
   ]
  },
  {
   "cell_type": "markdown",
   "metadata": {},
   "source": [
    "### Mutable - Sets"
   ]
  },
  {
   "cell_type": "code",
   "execution_count": 111,
   "metadata": {},
   "outputs": [],
   "source": [
    "s1 = {1,2,3,3,3,3}\n",
    "s2 = {3,2,4}"
   ]
  },
  {
   "cell_type": "code",
   "execution_count": 112,
   "metadata": {},
   "outputs": [
    {
     "name": "stdout",
     "output_type": "stream",
     "text": [
      "{1, 2, 3}\n",
      "{2, 3, 4}\n"
     ]
    }
   ],
   "source": [
    "print(s1)\n",
    "print(s2)"
   ]
  },
  {
   "cell_type": "code",
   "execution_count": 113,
   "metadata": {},
   "outputs": [],
   "source": [
    "s1.add(10)\n",
    "s1.add(10)\n",
    "s1.add(10)\n",
    "s2.add(30)\n",
    "s2.add(30)\n",
    "s2.add(30)"
   ]
  },
  {
   "cell_type": "code",
   "execution_count": 115,
   "metadata": {},
   "outputs": [
    {
     "name": "stdout",
     "output_type": "stream",
     "text": [
      "{10, 1, 2, 3}\n",
      "{2, 3, 4, 30}\n"
     ]
    }
   ],
   "source": [
    "print(s1)\n",
    "print(s2)"
   ]
  },
  {
   "cell_type": "code",
   "execution_count": 11,
   "metadata": {},
   "outputs": [
    {
     "data": {
      "text/plain": [
       "{1, 2, 3, 4, 10, 30}"
      ]
     },
     "execution_count": 11,
     "metadata": {},
     "output_type": "execute_result"
    }
   ],
   "source": [
    "s1.union(s2)"
   ]
  },
  {
   "cell_type": "code",
   "execution_count": 12,
   "metadata": {},
   "outputs": [
    {
     "data": {
      "text/plain": [
       "{2, 3}"
      ]
     },
     "execution_count": 12,
     "metadata": {},
     "output_type": "execute_result"
    }
   ],
   "source": [
    "s1.intersection(s2)"
   ]
  },
  {
   "cell_type": "code",
   "execution_count": 59,
   "metadata": {},
   "outputs": [
    {
     "data": {
      "text/plain": [
       "{1, 10}"
      ]
     },
     "execution_count": 59,
     "metadata": {},
     "output_type": "execute_result"
    }
   ],
   "source": [
    "s1.difference(s2)"
   ]
  },
  {
   "cell_type": "code",
   "execution_count": 61,
   "metadata": {},
   "outputs": [
    {
     "data": {
      "text/plain": [
       "({1, 2, 3, 10}, {2, 3, 4, 30})"
      ]
     },
     "execution_count": 61,
     "metadata": {},
     "output_type": "execute_result"
    }
   ],
   "source": [
    "s1, s2\n",
    "s1"
   ]
  },
  {
   "cell_type": "code",
   "execution_count": 117,
   "metadata": {},
   "outputs": [
    {
     "data": {
      "text/plain": [
       "'abhishek'"
      ]
     },
     "execution_count": 117,
     "metadata": {},
     "output_type": "execute_result"
    }
   ],
   "source": [
    "x= 'abhishek, dubey'.split(\",\")\n",
    "x[0]"
   ]
  },
  {
   "cell_type": "code",
   "execution_count": 119,
   "metadata": {},
   "outputs": [
    {
     "data": {
      "text/plain": [
       "' dubey'"
      ]
     },
     "execution_count": 119,
     "metadata": {},
     "output_type": "execute_result"
    }
   ],
   "source": [
    "'abhishek, dubey'.split(\",\")[1]"
   ]
  },
  {
   "cell_type": "markdown",
   "metadata": {},
   "source": [
    "# <font color=\"#2970A8\">1.B.4 - Basic Operation and Operator in Python</font>\n"
   ]
  },
  {
   "cell_type": "markdown",
   "metadata": {},
   "source": [
    "## <font color=\"#2970A8\">Operators\n",
    "    1)Arithmetic\n",
    "    2)Assignment\n",
    "    3)Comparision\n",
    "    4)Logical\n",
    "    5)Bitwise\n",
    "    6)Identity\n",
    "    7)Membership"
   ]
  },
  {
   "cell_type": "markdown",
   "metadata": {},
   "source": [
    "### Arithmetic"
   ]
  },
  {
   "cell_type": "code",
   "execution_count": 94,
   "metadata": {},
   "outputs": [
    {
     "name": "stdout",
     "output_type": "stream",
     "text": [
      "7\n",
      "3\n",
      "10\n",
      "2.5\n",
      "1\n",
      "2\n",
      "25\n"
     ]
    }
   ],
   "source": [
    "a = 5\n",
    "b = 2\n",
    "print(a + b)   # Addition\n",
    "print(a - b)   # Subtraction\n",
    "print(a * b)   # Multiplication\n",
    "print(a / b)   # Division       - returns quotient with fraction\n",
    "print(a % b)   # Modulus        - returns remainder\n",
    "print(a // b)  # Floor division - returns integer quotient\n",
    "print(a ** b)  # Exponent"
   ]
  },
  {
   "cell_type": "markdown",
   "metadata": {},
   "source": [
    "### Assignment"
   ]
  },
  {
   "cell_type": "code",
   "execution_count": 95,
   "metadata": {},
   "outputs": [
    {
     "name": "stdout",
     "output_type": "stream",
     "text": [
      "10\n",
      "20\n",
      "10\n",
      "1.0\n",
      "10.0\n",
      "10000000000.0\n"
     ]
    }
   ],
   "source": [
    "a=10\n",
    "print(a)\n",
    "\n",
    "a+=10 # a = a + 10\n",
    "print(a)\n",
    "\n",
    "a-=10 # a = a - 10\n",
    "print(a)\n",
    "\n",
    "a/=10\n",
    "print(a)\n",
    "\n",
    "a*=10\n",
    "print(a)\n",
    "\n",
    "a**=10\n",
    "print(a)"
   ]
  },
  {
   "cell_type": "markdown",
   "metadata": {},
   "source": [
    "### Comparison"
   ]
  },
  {
   "cell_type": "code",
   "execution_count": 96,
   "metadata": {},
   "outputs": [
    {
     "name": "stdout",
     "output_type": "stream",
     "text": [
      "False\n",
      "True\n",
      "False\n",
      "False\n",
      "True\n",
      "True\n"
     ]
    }
   ],
   "source": [
    "a=10\n",
    "b=20\n",
    "print(a==b)\n",
    "print(a!=b)\n",
    "print(a>b)\n",
    "print(a>=b)\n",
    "\n",
    "print(a<b)\n",
    "print(a<=b)"
   ]
  },
  {
   "cell_type": "code",
   "execution_count": 121,
   "metadata": {},
   "outputs": [
    {
     "name": "stdout",
     "output_type": "stream",
     "text": [
      "True\n"
     ]
    }
   ],
   "source": [
    "a = 10\n",
    "b = 10\n",
    "print(a>=b)"
   ]
  },
  {
   "cell_type": "markdown",
   "metadata": {},
   "source": [
    "### Logical"
   ]
  },
  {
   "cell_type": "code",
   "execution_count": 123,
   "metadata": {},
   "outputs": [
    {
     "name": "stdout",
     "output_type": "stream",
     "text": [
      "True False\n",
      "True False\n"
     ]
    }
   ],
   "source": [
    "a = True\n",
    "b = False\n",
    "\n",
    "print(a,b)\n",
    "print(bool(a), bool(b))"
   ]
  },
  {
   "cell_type": "code",
   "execution_count": 126,
   "metadata": {},
   "outputs": [
    {
     "name": "stdout",
     "output_type": "stream",
     "text": [
      "False\n",
      "True\n"
     ]
    }
   ],
   "source": [
    "# And operation\n",
    "print(a and b)\n",
    "\n",
    "# OR operations\n",
    "print(a or b)"
   ]
  },
  {
   "cell_type": "markdown",
   "metadata": {},
   "source": [
    "### Bitwise"
   ]
  },
  {
   "cell_type": "code",
   "execution_count": 127,
   "metadata": {},
   "outputs": [
    {
     "name": "stdout",
     "output_type": "stream",
     "text": [
      "3 5\n",
      "1\n"
     ]
    }
   ],
   "source": [
    "a = 3\n",
    "b = 5\n",
    "print(a,b)\n",
    "print(a & b)"
   ]
  },
  {
   "cell_type": "code",
   "execution_count": 4,
   "metadata": {},
   "outputs": [
    {
     "data": {
      "text/plain": [
       "('0b11', '0b101')"
      ]
     },
     "execution_count": 4,
     "metadata": {},
     "output_type": "execute_result"
    }
   ],
   "source": [
    "bin(a), bin(b)"
   ]
  },
  {
   "cell_type": "code",
   "execution_count": 43,
   "metadata": {},
   "outputs": [
    {
     "data": {
      "text/plain": [
       "1"
      ]
     },
     "execution_count": 43,
     "metadata": {},
     "output_type": "execute_result"
    }
   ],
   "source": [
    "a & b"
   ]
  },
  {
   "cell_type": "code",
   "execution_count": 44,
   "metadata": {},
   "outputs": [
    {
     "data": {
      "text/plain": [
       "'0b1'"
      ]
     },
     "execution_count": 44,
     "metadata": {},
     "output_type": "execute_result"
    }
   ],
   "source": [
    "# cross checking\n",
    "bin(1)"
   ]
  },
  {
   "cell_type": "code",
   "execution_count": 42,
   "metadata": {},
   "outputs": [
    {
     "data": {
      "text/plain": [
       "7"
      ]
     },
     "execution_count": 42,
     "metadata": {},
     "output_type": "execute_result"
    }
   ],
   "source": [
    "a | b # "
   ]
  },
  {
   "cell_type": "code",
   "execution_count": 45,
   "metadata": {},
   "outputs": [
    {
     "data": {
      "text/plain": [
       "'0b111'"
      ]
     },
     "execution_count": 45,
     "metadata": {},
     "output_type": "execute_result"
    }
   ],
   "source": [
    "# cross checking\n",
    "bin(7)"
   ]
  },
  {
   "cell_type": "markdown",
   "metadata": {},
   "source": [
    "### Identity"
   ]
  },
  {
   "cell_type": "markdown",
   "metadata": {},
   "source": [
    " There are two identity operator : 'is' and 'is not'"
   ]
  },
  {
   "cell_type": "code",
   "execution_count": 47,
   "metadata": {},
   "outputs": [
    {
     "data": {
      "text/plain": [
       "True"
      ]
     },
     "execution_count": 47,
     "metadata": {},
     "output_type": "execute_result"
    }
   ],
   "source": [
    "a = 5\n",
    "d = 5\n",
    "a is d"
   ]
  },
  {
   "cell_type": "code",
   "execution_count": 48,
   "metadata": {},
   "outputs": [
    {
     "data": {
      "text/plain": [
       "False"
      ]
     },
     "execution_count": 48,
     "metadata": {},
     "output_type": "execute_result"
    }
   ],
   "source": [
    "c = 10\n",
    "a is c"
   ]
  },
  {
   "cell_type": "code",
   "execution_count": 49,
   "metadata": {},
   "outputs": [
    {
     "data": {
      "text/plain": [
       "True"
      ]
     },
     "execution_count": 49,
     "metadata": {},
     "output_type": "execute_result"
    }
   ],
   "source": [
    "a is not c"
   ]
  },
  {
   "cell_type": "code",
   "execution_count": null,
   "metadata": {},
   "outputs": [],
   "source": []
  },
  {
   "cell_type": "markdown",
   "metadata": {},
   "source": [
    "### Membership"
   ]
  },
  {
   "cell_type": "code",
   "execution_count": 129,
   "metadata": {},
   "outputs": [],
   "source": [
    "s1 = 'Pythonic is very easy to learn!'\n",
    "s2 = 'Data Science is the best profession to be in these days.'"
   ]
  },
  {
   "cell_type": "code",
   "execution_count": 134,
   "metadata": {},
   "outputs": [
    {
     "data": {
      "text/plain": [
       "False"
      ]
     },
     "execution_count": 134,
     "metadata": {},
     "output_type": "execute_result"
    }
   ],
   "source": [
    "'python' in s1"
   ]
  },
  {
   "cell_type": "code",
   "execution_count": null,
   "metadata": {},
   "outputs": [],
   "source": [
    "'Science' in s2"
   ]
  },
  {
   "cell_type": "code",
   "execution_count": 82,
   "metadata": {},
   "outputs": [
    {
     "data": {
      "text/plain": [
       "(False, False)"
      ]
     },
     "execution_count": 82,
     "metadata": {},
     "output_type": "execute_result"
    }
   ],
   "source": [
    "'Python' in s2, 'python' in s1"
   ]
  },
  {
   "cell_type": "code",
   "execution_count": 84,
   "metadata": {},
   "outputs": [
    {
     "data": {
      "text/plain": [
       "True"
      ]
     },
     "execution_count": 84,
     "metadata": {},
     "output_type": "execute_result"
    }
   ],
   "source": [
    "'science' in s2.lower() # case-insensitive"
   ]
  },
  {
   "cell_type": "code",
   "execution_count": 1,
   "metadata": {},
   "outputs": [
    {
     "data": {
      "text/plain": [
       "False"
      ]
     },
     "execution_count": 1,
     "metadata": {},
     "output_type": "execute_result"
    }
   ],
   "source": [
    "a = 45\n",
    "b = 66\n",
    "a is b"
   ]
  },
  {
   "cell_type": "code",
   "execution_count": 9,
   "metadata": {},
   "outputs": [
    {
     "name": "stdout",
     "output_type": "stream",
     "text": [
      "100\n",
      "gm\n",
      "500\n",
      "ml\n",
      "2\n",
      "KG\n",
      "1\n",
      "pound\n",
      "The prod is : cadbury Chocolate , the old weight is : 100 gm & the new weight is : 3.5274\n",
      "The prod is : Amul milk , the old weight is : 500 ml & the new weight is : 16.907\n",
      "The prod is : laptop , the old weight is : 2 KG & the new weight is : 70.54\n",
      "The prod is : soap , the old weight is : 1 pound & the new weight is : 16\n"
     ]
    }
   ],
   "source": [
    "products = ['cadbury Chocolate', 'Amul milk', 'laptop', 'soap']\n",
    "weights = ['100 gm', '500 ml', '2 KG', '1 pound']\n",
    "converted_weight = [] # new list to store all the converted weight values\n",
    "for each_weight in weights:\n",
    "   val = int(each_weight.split()[0])\n",
    "   print (val)\n",
    "   # splitting the weight on 'space' and storing first value to val variable\n",
    "   # have used int(), because after splitting I get string like '100', type casted it to int so that,-\n",
    "   # - I can do multiplication below\n",
    "   uom = each_weight.split()[1]\n",
    "   print (uom) \n",
    "   #storing unit of measure(uom) to variable uom\n",
    "   # here is my conversion condition, I googled the conversion between different units to ounce\n",
    "   if uom.lower() == 'kg':\n",
    "       val = val*35.27\n",
    "   if uom.lower() == 'gm':\n",
    "       val = val*0.035274\n",
    "   if uom.lower() == 'pound':\n",
    "       val = val*16\n",
    "   if uom.lower() == 'ml':\n",
    "       val = val*0.033814\n",
    "   converted_weight.append(val) # Note: I have this append() outside of if conditions, -\n",
    "   # - having it inside every if condition will serve the purpose but it is just repetetive.\n",
    "# all the value has been converted, now printing\n",
    "for prod, old_wght, con_wght in zip(products, weights, converted_weight):\n",
    "   print(\"The prod is : {} , the old weight is : {} & the new weight is : {}\".format(prod, old_wght, con_wght))"
   ]
  },
  {
   "cell_type": "code",
   "execution_count": 10,
   "metadata": {},
   "outputs": [
    {
     "name": "stdout",
     "output_type": "stream",
     "text": [
      "The prod is : cadbury Chocolate , the old weight is : 100 gm &amp; the new weight is : 3.5274\n",
      "The prod is : Amul milk , the old weight is : 500 ml &amp; the new weight is : 16.907\n",
      "The prod is : laptop , the old weight is : 2 KG &amp; the new weight is : 70.54\n",
      "The prod is : soap , the old weight is : 1 pound &amp; the new weight is : 16\n"
     ]
    }
   ],
   "source": [
    "# sophisticated way of doing it using map() function\n",
    "products = ['cadbury Chocolate', 'Amul milk', 'laptop', 'soap']\n",
    "weights = ['100 gm', '500 ml', '2 KG', '1 pound']\n",
    "def conversion_fun(row):\n",
    "   '''\n",
    "   It takes each element of the list and apply this function and returns the transformed value\n",
    "   '''\n",
    "   val = int(row.split()[0]) # splitting the weight on 'space' and storing first value to val variable\n",
    "   # have used int(), because after splitting I get string like '100', type casted it to int so that,-\n",
    "   # - I can do multiplication below\n",
    "   uom = row.split()[1] #storing unit of measure(uom) to variable uom\n",
    "   # here is my conversion condition, I googled the conversion between different units to ounce\n",
    "   if uom.lower() == 'kg':\n",
    "       val = val*35.27\n",
    "   if uom.lower() == 'gm':\n",
    "       val = val*0.035274\n",
    "   if uom.lower() == 'pound':\n",
    "       val = val*16\n",
    "   if uom.lower() == 'ml':\n",
    "       val = val*0.033814\n",
    "   return val\n",
    "# using map() function, now there is no for loop while doing the conversion.\n",
    "converted_weights = list(map(conversion_fun, weights))\n",
    "for prod, old_wght, con_wght in zip(products, weights, converted_weights):\n",
    "   print(\"The prod is : {} , the old weight is : {} &amp; the new weight is : {}\".format(prod, old_wght, con_wght))"
   ]
  },
  {
   "cell_type": "code",
   "execution_count": null,
   "metadata": {},
   "outputs": [],
   "source": []
  }
 ],
 "metadata": {
  "kernelspec": {
   "display_name": "Python 3",
   "language": "python",
   "name": "python3"
  },
  "language_info": {
   "codemirror_mode": {
    "name": "ipython",
    "version": 3
   },
   "file_extension": ".py",
   "mimetype": "text/x-python",
   "name": "python",
   "nbconvert_exporter": "python",
   "pygments_lexer": "ipython3",
   "version": "3.7.3"
  }
 },
 "nbformat": 4,
 "nbformat_minor": 2
}
