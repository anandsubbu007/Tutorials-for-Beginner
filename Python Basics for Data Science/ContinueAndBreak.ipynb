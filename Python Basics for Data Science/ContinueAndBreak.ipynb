{
 "cells": [
  {
   "cell_type": "markdown",
   "metadata": {
    "colab_type": "text",
    "id": "07ksljDtKAHa"
   },
   "source": [
    "# Python continue and break statement"
   ]
  },
  {
   "cell_type": "code",
   "execution_count": 5,
   "metadata": {
    "colab_type": "text",
    "id": "2OItOHUHKAHb"
   },
   "outputs": [],
   "source": [
    "# this module helps us to pick a number randomly\n",
    "import random"
   ]
  },
  {
   "cell_type": "code",
   "execution_count": 6,
   "metadata": {},
   "outputs": [],
   "source": []
  },
  {
   "cell_type": "code",
   "execution_count": 28,
   "metadata": {},
   "outputs": [
    {
     "name": "stdout",
     "output_type": "stream",
     "text": [
      "Printing s : 4\n",
      "It is 4! Changing running to false\n"
     ]
    }
   ],
   "source": [
    "# set running to true\n",
    "running = True\n",
    "# while running is true\n",
    "while running:\n",
    "    # Create a random integer between 0 and 5\n",
    "    s = random.randint(0,5)\n",
    "    print(\"Printing s :\", s)\n",
    "    # If the integer is less than 3\n",
    "    if s < 3:\n",
    "        # Print this\n",
    "        print('It is too small, starting over.')\n",
    "        # Reset the next interation of the loop\n",
    "        # (i.e skip everything below and restart from the top)\n",
    "        continue\n",
    "    # If the integer is 4\n",
    "    if s == 4:\n",
    "        running = False\n",
    "        # Print this\n",
    "        print('It is 4! Changing running to false')\n",
    "    # If the integer is 5,\n",
    "    if s == 5:\n",
    "        # Print this\n",
    "        print('It is 5! Breaking Loop!')\n",
    "        # then stop the loop\n",
    "        break"
   ]
  },
  {
   "cell_type": "code",
   "execution_count": null,
   "metadata": {},
   "outputs": [],
   "source": []
  },
  {
   "cell_type": "code",
   "execution_count": null,
   "metadata": {},
   "outputs": [],
   "source": []
  },
  {
   "cell_type": "code",
   "execution_count": null,
   "metadata": {},
   "outputs": [],
   "source": []
  }
 ],
 "metadata": {
  "colab": {
   "name": "While-loop.ipynb",
   "provenance": [],
   "version": "0.3.2"
  },
  "kernelspec": {
   "display_name": "Python 3",
   "language": "python",
   "name": "python3"
  },
  "language_info": {
   "codemirror_mode": {
    "name": "ipython",
    "version": 3
   },
   "file_extension": ".py",
   "mimetype": "text/x-python",
   "name": "python",
   "nbconvert_exporter": "python",
   "pygments_lexer": "ipython3",
   "version": "3.6.5"
  }
 },
 "nbformat": 4,
 "nbformat_minor": 1
}
