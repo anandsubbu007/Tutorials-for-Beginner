{
 "cells": [
  {
   "cell_type": "raw",
   "metadata": {},
   "source": [
    "DESCRIPTION\n",
    "    A university wants to categorize the marks scored by the students of each batch in the quizzes conducted. \n",
    "Datasets:\n",
    "    studentlist.csv is a csv file (attached) which includes the student details like enrolment number, admission no. Batch wise list is a folder (attached) which has multiple csv files. Each file contains the student details belonging to a batch.  For example, 1.csv contains the student details belonging to batch1 and 2.csv contains the student details belonging to batch2 and so on.\n",
    "    quiz is a folder(attached) which has multiple csv files.  Each file represents a quiz conducted by the university and contains all the important details. The column 'Grade/10.00' contains the marks obtained in that quiz out of maximum marks of 10.  \n",
    "    For example quiz1.csv contains the student details and the marks obtained by them in the first quiz. "
   ]
  },
  {
   "cell_type": "code",
   "execution_count": 1,
   "metadata": {},
   "outputs": [
    {
     "name": "stdout",
     "output_type": "stream",
     "text": [
      "Wall time: 1.44 s\n"
     ]
    }
   ],
   "source": [
    "%%time\n",
    "import pandas as pd\n",
    "import numpy as np\n",
    "import matplotlib.pyplot as plt\n",
    "import seaborn as sns\n",
    "import glob\n",
    "import os\n"
   ]
  },
  {
   "cell_type": "code",
   "execution_count": 2,
   "metadata": {},
   "outputs": [
    {
     "name": "stdout",
     "output_type": "stream",
     "text": [
      "(1017, 4)\n"
     ]
    },
    {
     "data": {
      "text/html": [
       "<div>\n",
       "<style scoped>\n",
       "    .dataframe tbody tr th:only-of-type {\n",
       "        vertical-align: middle;\n",
       "    }\n",
       "\n",
       "    .dataframe tbody tr th {\n",
       "        vertical-align: top;\n",
       "    }\n",
       "\n",
       "    .dataframe thead th {\n",
       "        text-align: right;\n",
       "    }\n",
       "</style>\n",
       "<table border=\"1\" class=\"dataframe\">\n",
       "  <thead>\n",
       "    <tr style=\"text-align: right;\">\n",
       "      <th></th>\n",
       "      <th>enrollmentnumber</th>\n",
       "      <th>admn</th>\n",
       "      <th>studentname</th>\n",
       "      <th>studentEmail</th>\n",
       "    </tr>\n",
       "  </thead>\n",
       "  <tbody>\n",
       "    <tr>\n",
       "      <th>0</th>\n",
       "      <td>1613101016</td>\n",
       "      <td>16SCSE101757</td>\n",
       "      <td>AAYUSH  TYAGI</td>\n",
       "      <td>NaN</td>\n",
       "    </tr>\n",
       "    <tr>\n",
       "      <th>1</th>\n",
       "      <td>1613101026</td>\n",
       "      <td>16SCSE101415</td>\n",
       "      <td>ABHISHEK</td>\n",
       "      <td>NaN</td>\n",
       "    </tr>\n",
       "    <tr>\n",
       "      <th>2</th>\n",
       "      <td>1613101051</td>\n",
       "      <td>16SCSE101222</td>\n",
       "      <td>ADITI  SINGH</td>\n",
       "      <td>NaN</td>\n",
       "    </tr>\n",
       "  </tbody>\n",
       "</table>\n",
       "</div>"
      ],
      "text/plain": [
       "   enrollmentnumber          admn    studentname  studentEmail\n",
       "0        1613101016  16SCSE101757  AAYUSH  TYAGI           NaN\n",
       "1        1613101026  16SCSE101415       ABHISHEK           NaN\n",
       "2        1613101051  16SCSE101222   ADITI  SINGH           NaN"
      ]
     },
     "execution_count": 2,
     "metadata": {},
     "output_type": "execute_result"
    }
   ],
   "source": [
    "stu_det = pd.read_csv('studentlist.csv')\n",
    "print(stu_det.shape)\n",
    "stu_det.head(3)\n"
   ]
  },
  {
   "cell_type": "code",
   "execution_count": 3,
   "metadata": {},
   "outputs": [
    {
     "name": "stdout",
     "output_type": "stream",
     "text": [
      "(1017, 5)\n"
     ]
    }
   ],
   "source": [
    "# Reading batch wise list\n",
    "\n",
    "path = r'C:\\Users\\Anand\\Desktop\\Data Science - Materials\\Home  Works\\Assignment\\Py Ass-3\\batchwiselist'\n",
    "all_files = glob.glob(path +\"/*.csv\")\n",
    "lst = []\n",
    "for i in all_files:\n",
    "    df = pd.read_csv(i)\n",
    "    lst.append(df)\n",
    "    \n",
    "tot_lst = pd.concat(lst)\n",
    "print(tot_lst.shape)"
   ]
  },
  {
   "cell_type": "raw",
   "metadata": {},
   "source": [
    "Now you need to perform the following steps on this data:\n",
    "1.\tRead the file studentlist.csv \n",
    "2.\tRead the files present in the folders batch wise  list,  quiz \n",
    "3.\tManipulate the data and create a Statistics dataframe in such a way that it allocates marks ` for the quizzes. Statistics dataframe for each batch should include the following column names with the respective statistics value. The column names infer the meaning of each column. \n",
    "[\"no  of  present\", \"lessthan50\", \"between50and60\", \"between60and70\", \"between70and80\", \"greaterthan80\"]\n",
    "        i)  Rows of Statistics dataframe represents the quiz. Such as, the first row under the column “between50and60” represents the number of students whose percentage is in between 50 and 60 in the first quiz. \n",
    "        ii)  The second row under the column “between50and60” represents the number of students whose percentage is in between 50 and 60 in the second quiz. \n",
    "        iii) The first row under the column \"no of present\" represents the number of students who attempted the first quiz from that batch.\n",
    "        iv) The second row under the column \"no of present\" represents the number of students who attempted the second quiz from that batch."
   ]
  },
  {
   "cell_type": "code",
   "execution_count": 4,
   "metadata": {},
   "outputs": [],
   "source": [
    "# Reading batch wise list\n",
    "path = r'C:\\Users\\Anand\\Desktop\\Data Science - Materials\\Home  Works\\Assignment\\Py Ass-3\\quiz'\n",
    "all_files = glob.glob(path +\"/*.csv\")\n",
    "\n",
    "quiz = []\n",
    "\n",
    "for i in all_files:\n",
    "    df = pd.read_csv(i)\n",
    "    quiz.append(df)\n",
    "#define each csv\n",
    "quiz1 = quiz[0]\n",
    "quiz2 = quiz[1]\n",
    "#2 file merged\n",
    "bth_quiz = pd.concat(quiz)\n",
    "bth_quiz.head(3)\n",
    "quiz1 = quiz1.drop(columns=['ID number','Institution',\"Department\",'Email address'])\n",
    "quiz2 = quiz2.drop(columns=['ID number','Institution',\"Department\",'Email address'])"
   ]
  },
  {
   "cell_type": "code",
   "execution_count": 5,
   "metadata": {},
   "outputs": [
    {
     "name": "stdout",
     "output_type": "stream",
     "text": [
      "(660, 7)\n"
     ]
    },
    {
     "data": {
      "text/html": [
       "<div>\n",
       "<style scoped>\n",
       "    .dataframe tbody tr th:only-of-type {\n",
       "        vertical-align: middle;\n",
       "    }\n",
       "\n",
       "    .dataframe tbody tr th {\n",
       "        vertical-align: top;\n",
       "    }\n",
       "\n",
       "    .dataframe thead th {\n",
       "        text-align: right;\n",
       "    }\n",
       "</style>\n",
       "<table border=\"1\" class=\"dataframe\">\n",
       "  <thead>\n",
       "    <tr style=\"text-align: right;\">\n",
       "      <th></th>\n",
       "      <th>Surname</th>\n",
       "      <th>Firstname</th>\n",
       "      <th>State</th>\n",
       "      <th>Started on</th>\n",
       "      <th>Completed</th>\n",
       "      <th>Time taken</th>\n",
       "      <th>Grade/10.00</th>\n",
       "    </tr>\n",
       "  </thead>\n",
       "  <tbody>\n",
       "    <tr>\n",
       "      <th>0</th>\n",
       "      <td>16BTCSES11</td>\n",
       "      <td>SIDDHANT  GUPTA</td>\n",
       "      <td>Finished</td>\n",
       "      <td>08-02-2019 09:57</td>\n",
       "      <td>08-02-2019 10:11</td>\n",
       "      <td>14 mins 1 sec</td>\n",
       "      <td>4</td>\n",
       "    </tr>\n",
       "    <tr>\n",
       "      <th>1</th>\n",
       "      <td>16BTCSES11</td>\n",
       "      <td>ARPIT  SHARMA</td>\n",
       "      <td>Finished</td>\n",
       "      <td>08-02-2019 09:57</td>\n",
       "      <td>08-02-2019 10:11</td>\n",
       "      <td>14 mins 5 secs</td>\n",
       "      <td>5</td>\n",
       "    </tr>\n",
       "  </tbody>\n",
       "</table>\n",
       "</div>"
      ],
      "text/plain": [
       "      Surname        Firstname     State        Started on         Completed  \\\n",
       "0  16BTCSES11  SIDDHANT  GUPTA  Finished  08-02-2019 09:57  08-02-2019 10:11   \n",
       "1  16BTCSES11    ARPIT  SHARMA  Finished  08-02-2019 09:57  08-02-2019 10:11   \n",
       "\n",
       "       Time taken Grade/10.00  \n",
       "0   14 mins 1 sec           4  \n",
       "1  14 mins 5 secs           5  "
      ]
     },
     "execution_count": 5,
     "metadata": {},
     "output_type": "execute_result"
    }
   ],
   "source": [
    "print(quiz1.shape)\n",
    "quiz1.head(2)\n"
   ]
  },
  {
   "cell_type": "code",
   "execution_count": 6,
   "metadata": {},
   "outputs": [
    {
     "data": {
      "text/html": [
       "<div>\n",
       "<style scoped>\n",
       "    .dataframe tbody tr th:only-of-type {\n",
       "        vertical-align: middle;\n",
       "    }\n",
       "\n",
       "    .dataframe tbody tr th {\n",
       "        vertical-align: top;\n",
       "    }\n",
       "\n",
       "    .dataframe thead th {\n",
       "        text-align: right;\n",
       "    }\n",
       "</style>\n",
       "<table border=\"1\" class=\"dataframe\">\n",
       "  <thead>\n",
       "    <tr style=\"text-align: right;\">\n",
       "      <th></th>\n",
       "      <th>no of present</th>\n",
       "      <th>lessthan50</th>\n",
       "      <th>between50and60</th>\n",
       "      <th>between60and70</th>\n",
       "      <th>between70and80</th>\n",
       "      <th>greaterthan80</th>\n",
       "    </tr>\n",
       "  </thead>\n",
       "  <tbody>\n",
       "    <tr>\n",
       "      <th>Quiz_1</th>\n",
       "      <td>NaN</td>\n",
       "      <td>NaN</td>\n",
       "      <td>NaN</td>\n",
       "      <td>NaN</td>\n",
       "      <td>NaN</td>\n",
       "      <td>NaN</td>\n",
       "    </tr>\n",
       "    <tr>\n",
       "      <th>Quiz_2</th>\n",
       "      <td>NaN</td>\n",
       "      <td>NaN</td>\n",
       "      <td>NaN</td>\n",
       "      <td>NaN</td>\n",
       "      <td>NaN</td>\n",
       "      <td>NaN</td>\n",
       "    </tr>\n",
       "  </tbody>\n",
       "</table>\n",
       "</div>"
      ],
      "text/plain": [
       "       no of present lessthan50 between50and60 between60and70 between70and80  \\\n",
       "Quiz_1           NaN        NaN            NaN            NaN            NaN   \n",
       "Quiz_2           NaN        NaN            NaN            NaN            NaN   \n",
       "\n",
       "       greaterthan80  \n",
       "Quiz_1           NaN  \n",
       "Quiz_2           NaN  "
      ]
     },
     "execution_count": 6,
     "metadata": {},
     "output_type": "execute_result"
    }
   ],
   "source": [
    "stat_df= pd.DataFrame (columns = [\"no of present\", \"lessthan50\", \"between50and60\", \n",
    "                                  \"between60and70\", \"between70and80\", \"greaterthan80\"],index=[\"Quiz_1\",\"Quiz_2\"])\n",
    "\n",
    "stat_df"
   ]
  },
  {
   "cell_type": "code",
   "execution_count": 7,
   "metadata": {},
   "outputs": [],
   "source": [
    "quiz1[\"Firstname\"] = quiz1[\"Firstname\"].dropna()\n",
    "quiz2[\"Firstname\"] = quiz2[\"Firstname\"].dropna()"
   ]
  },
  {
   "cell_type": "code",
   "execution_count": 8,
   "metadata": {},
   "outputs": [],
   "source": [
    "#quiz1[\"Grade/10.00\"].unique()\n",
    "#quiz2[\"Grade/10.00\"].unique()\n",
    "quiz1[\"Grade/10.00\"] = quiz1[\"Grade/10.00\"].str.replace(\"-\",\"0\")\n",
    "quiz2[\"Grade/10.00\"] = quiz2[\"Grade/10.00\"].str.replace(\"-\",\"0\")\n",
    "quiz1[\"Grade/10.00\"] = quiz1[\"Grade/10.00\"].apply(pd.to_numeric)\n",
    "quiz2[\"Grade/10.00\"] = quiz2[\"Grade/10.00\"].apply(pd.to_numeric)"
   ]
  },
  {
   "cell_type": "code",
   "execution_count": 9,
   "metadata": {},
   "outputs": [
    {
     "data": {
      "text/plain": [
       "93"
      ]
     },
     "execution_count": 9,
     "metadata": {},
     "output_type": "execute_result"
    }
   ],
   "source": [
    "#quiz11 = quiz1[quiz1[\"Grade/10.00\"]<5].reset_index()\n",
    "quiz1[quiz1[\"Grade/10.00\"]<5][\"Firstname\"].count()\n",
    "quiz2[quiz2[\"Grade/10.00\"]<5][\"Firstname\"].count()"
   ]
  },
  {
   "cell_type": "code",
   "execution_count": 10,
   "metadata": {},
   "outputs": [
    {
     "data": {
      "text/plain": [
       "Surname        660\n",
       "Firstname      659\n",
       "State          659\n",
       "Started on     659\n",
       "Completed      659\n",
       "Time taken     659\n",
       "Grade/10.00    660\n",
       "dtype: int64"
      ]
     },
     "execution_count": 10,
     "metadata": {},
     "output_type": "execute_result"
    }
   ],
   "source": [
    "quiz1.count()"
   ]
  },
  {
   "cell_type": "code",
   "execution_count": 11,
   "metadata": {},
   "outputs": [
    {
     "data": {
      "text/html": [
       "<div>\n",
       "<style scoped>\n",
       "    .dataframe tbody tr th:only-of-type {\n",
       "        vertical-align: middle;\n",
       "    }\n",
       "\n",
       "    .dataframe tbody tr th {\n",
       "        vertical-align: top;\n",
       "    }\n",
       "\n",
       "    .dataframe thead th {\n",
       "        text-align: right;\n",
       "    }\n",
       "</style>\n",
       "<table border=\"1\" class=\"dataframe\">\n",
       "  <thead>\n",
       "    <tr style=\"text-align: right;\">\n",
       "      <th></th>\n",
       "      <th>no of present</th>\n",
       "      <th>lessthan50</th>\n",
       "      <th>between50and60</th>\n",
       "      <th>between60and70</th>\n",
       "      <th>between70and80</th>\n",
       "      <th>greaterthan80</th>\n",
       "    </tr>\n",
       "  </thead>\n",
       "  <tbody>\n",
       "    <tr>\n",
       "      <th>Quiz_1</th>\n",
       "      <td>659</td>\n",
       "      <td>127</td>\n",
       "      <td>69</td>\n",
       "      <td>57</td>\n",
       "      <td>58</td>\n",
       "      <td>348</td>\n",
       "    </tr>\n",
       "    <tr>\n",
       "      <th>Quiz_2</th>\n",
       "      <td>680</td>\n",
       "      <td>93</td>\n",
       "      <td>40</td>\n",
       "      <td>39</td>\n",
       "      <td>41</td>\n",
       "      <td>467</td>\n",
       "    </tr>\n",
       "  </tbody>\n",
       "</table>\n",
       "</div>"
      ],
      "text/plain": [
       "        no of present  lessthan50  between50and60  between60and70  \\\n",
       "Quiz_1            659         127              69              57   \n",
       "Quiz_2            680          93              40              39   \n",
       "\n",
       "        between70and80  greaterthan80  \n",
       "Quiz_1              58            348  \n",
       "Quiz_2              41            467  "
      ]
     },
     "execution_count": 11,
     "metadata": {},
     "output_type": "execute_result"
    }
   ],
   "source": [
    "stat_df[\"no of present\"]= [quiz1[\"Firstname\"].count(),quiz2[\"Firstname\"].count()]\n",
    "stat_df[\"lessthan50\"] = [quiz1[quiz1[\"Grade/10.00\"].between(0,4.9,inclusive=True)][\"Firstname\"].count(),\n",
    "                         quiz2[quiz2[\"Grade/10.00\"].between(0,4.9)][\"Firstname\"].count()]\n",
    "stat_df[\"between50and60\"] = [quiz1[quiz1[\"Grade/10.00\"].between(5,5.9,inclusive=True)][\"Firstname\"].count(),\n",
    "                             quiz2[quiz2[\"Grade/10.00\"].between(5,5.9,inclusive=True)][\"Firstname\"].count()]\n",
    "stat_df[\"between60and70\"] = [quiz1[quiz1[\"Grade/10.00\"].between(6,6.9,inclusive=True)][\"Firstname\"].count(),\n",
    "                             quiz2[quiz2[\"Grade/10.00\"].between(6,6.9,inclusive=True)][\"Firstname\"].count()]\n",
    "stat_df[\"between70and80\"] = [quiz1[quiz1[\"Grade/10.00\"].between(7,7.9,inclusive=True)][\"Firstname\"].count(),\n",
    "                             quiz2[quiz2[\"Grade/10.00\"].between(7,7.9,inclusive=True)][\"Firstname\"].count()]\n",
    "stat_df[\"greaterthan80\"] = [quiz1[quiz1[\"Grade/10.00\"].between(8,10,inclusive=True)][\"Firstname\"].count(),\n",
    "                            quiz2[quiz2[\"Grade/10.00\"].between(8,10,inclusive=True)][\"Firstname\"].count()]\n",
    "\n",
    "\n",
    "stat_df"
   ]
  },
  {
   "cell_type": "raw",
   "metadata": {},
   "source": [
    "Input Format\n",
    "You must read a file named testcaseStudent.txt (attached) which has the following lines:\n",
    "The first line contains the number of testcase pairs.                      9\n",
    " Followed by a set of Batch file and Percentage range pairs. \n",
    "Output Format\n",
    "For each testcase pair n, create an output file outputn.txt  where n represents the test case pair number.\n",
    "This file should contain the number of students who got marks in the requested percentage range from that batch.\n",
    "outputn.txt should consist of the values in a separate line for each quiz."
   ]
  },
  {
   "cell_type": "code",
   "execution_count": 12,
   "metadata": {},
   "outputs": [],
   "source": [
    "path = os.getcwd()\n",
    "\n",
    "all_files = [f for f in glob.glob(path +\"\\\\batchwiselist\" +\"/*.csv\")]\n",
    "all_files[0]\n",
    "#for i,v in enumerate(all_files):\n",
    "#   print(i,v)\n",
    "file = []\n",
    "\n",
    "for i in all_files:\n",
    "    df = pd.read_csv(i)\n",
    "    file.append(df)\n",
    "    \n",
    "#file"
   ]
  },
  {
   "cell_type": "code",
   "execution_count": 13,
   "metadata": {},
   "outputs": [],
   "source": [
    "#bt0 = file[0]"
   ]
  },
  {
   "cell_type": "code",
   "execution_count": 14,
   "metadata": {},
   "outputs": [
    {
     "name": "stdout",
     "output_type": "stream",
     "text": [
      "(1017, 11)\n"
     ]
    }
   ],
   "source": [
    "#student\n",
    "quiz_1 = pd.merge(quiz1,stu_det,left_on='Firstname',right_on='studentname',how='right')\n",
    "quiz_2 = pd.merge(quiz2,stu_det,left_on='Firstname',right_on='studentname',how='right')\n",
    "print(quiz_1.shape)\n",
    "quiz_1[\"Grade/10.00\"] = quiz_1[\"Grade/10.00\"].fillna(0)\n",
    "quiz_2[\"Grade/10.00\"] = quiz_2[\"Grade/10.00\"].fillna(0)"
   ]
  },
  {
   "cell_type": "code",
   "execution_count": 15,
   "metadata": {},
   "outputs": [],
   "source": [
    "#quiz_1\n",
    "#stu1 = pd.merge(quiz2,stu_det,left_on='Firstname',right_on='studentname',how='left')\n",
    "#stu1\n",
    "#x = pd.merge(quiz_1,)\n",
    "\n",
    "#quiz_1['studentname']==file[0]['studentName']\n",
    "#quiz_1['studentname'].count()\n",
    "#file[0]['studentName'].count()\n",
    "#quiz_1['studentname'].str.contains(file[0]['studentName'])"
   ]
  },
  {
   "cell_type": "code",
   "execution_count": 16,
   "metadata": {
    "scrolled": true
   },
   "outputs": [
    {
     "name": "stdout",
     "output_type": "stream",
     "text": [
      "(63, 16)\n",
      "(63, 16)\n"
     ]
    },
    {
     "data": {
      "text/html": [
       "<div>\n",
       "<style scoped>\n",
       "    .dataframe tbody tr th:only-of-type {\n",
       "        vertical-align: middle;\n",
       "    }\n",
       "\n",
       "    .dataframe tbody tr th {\n",
       "        vertical-align: top;\n",
       "    }\n",
       "\n",
       "    .dataframe thead th {\n",
       "        text-align: right;\n",
       "    }\n",
       "</style>\n",
       "<table border=\"1\" class=\"dataframe\">\n",
       "  <thead>\n",
       "    <tr style=\"text-align: right;\">\n",
       "      <th></th>\n",
       "      <th>Unnamed: 0</th>\n",
       "      <th>srNo</th>\n",
       "      <th>enrollmentNumber</th>\n",
       "      <th>admissionNumber</th>\n",
       "      <th>studentName</th>\n",
       "      <th>Surname</th>\n",
       "      <th>Firstname</th>\n",
       "      <th>State</th>\n",
       "      <th>Started on</th>\n",
       "      <th>Completed</th>\n",
       "      <th>Time taken</th>\n",
       "      <th>Grade/10.00</th>\n",
       "      <th>enrollmentnumber</th>\n",
       "      <th>admn</th>\n",
       "      <th>studentname</th>\n",
       "      <th>studentEmail</th>\n",
       "    </tr>\n",
       "  </thead>\n",
       "  <tbody>\n",
       "    <tr>\n",
       "      <th>0</th>\n",
       "      <td>0</td>\n",
       "      <td>1</td>\n",
       "      <td>1613101016</td>\n",
       "      <td>16SCSE101757</td>\n",
       "      <td>AAYUSH  TYAGI</td>\n",
       "      <td>16BTCSES1</td>\n",
       "      <td>AAYUSH  TYAGI</td>\n",
       "      <td>Finished</td>\n",
       "      <td>08-02-2019 15:59</td>\n",
       "      <td>08-02-2019 16:06</td>\n",
       "      <td>7 mins 14 secs</td>\n",
       "      <td>5.0</td>\n",
       "      <td>1613101016</td>\n",
       "      <td>16SCSE101757</td>\n",
       "      <td>AAYUSH  TYAGI</td>\n",
       "      <td>NaN</td>\n",
       "    </tr>\n",
       "    <tr>\n",
       "      <th>1</th>\n",
       "      <td>1</td>\n",
       "      <td>2</td>\n",
       "      <td>1613101026</td>\n",
       "      <td>16SCSE101415</td>\n",
       "      <td>ABHISHEK</td>\n",
       "      <td>16BTCSES1</td>\n",
       "      <td>ABHISHEK</td>\n",
       "      <td>Finished</td>\n",
       "      <td>08-02-2019 16:06</td>\n",
       "      <td>08-02-2019 16:22</td>\n",
       "      <td>15 mins 41 secs</td>\n",
       "      <td>7.0</td>\n",
       "      <td>1613101026</td>\n",
       "      <td>16SCSE101415</td>\n",
       "      <td>ABHISHEK</td>\n",
       "      <td>NaN</td>\n",
       "    </tr>\n",
       "    <tr>\n",
       "      <th>2</th>\n",
       "      <td>2</td>\n",
       "      <td>3</td>\n",
       "      <td>1613101051</td>\n",
       "      <td>16SCSE101222</td>\n",
       "      <td>ADITI  SINGH</td>\n",
       "      <td>16BTCSES1</td>\n",
       "      <td>ADITI  SINGH</td>\n",
       "      <td>Finished</td>\n",
       "      <td>08-02-2019 16:21</td>\n",
       "      <td>08-02-2019 16:37</td>\n",
       "      <td>16 mins 52 secs</td>\n",
       "      <td>5.0</td>\n",
       "      <td>1613101051</td>\n",
       "      <td>16SCSE101222</td>\n",
       "      <td>ADITI  SINGH</td>\n",
       "      <td>NaN</td>\n",
       "    </tr>\n",
       "  </tbody>\n",
       "</table>\n",
       "</div>"
      ],
      "text/plain": [
       "   Unnamed: 0  srNo  enrollmentNumber admissionNumber    studentName  \\\n",
       "0           0     1        1613101016    16SCSE101757  AAYUSH  TYAGI   \n",
       "1           1     2        1613101026    16SCSE101415       ABHISHEK   \n",
       "2           2     3        1613101051    16SCSE101222   ADITI  SINGH   \n",
       "\n",
       "     Surname      Firstname     State        Started on         Completed  \\\n",
       "0  16BTCSES1  AAYUSH  TYAGI  Finished  08-02-2019 15:59  08-02-2019 16:06   \n",
       "1  16BTCSES1       ABHISHEK  Finished  08-02-2019 16:06  08-02-2019 16:22   \n",
       "2  16BTCSES1   ADITI  SINGH  Finished  08-02-2019 16:21  08-02-2019 16:37   \n",
       "\n",
       "        Time taken  Grade/10.00  enrollmentnumber          admn  \\\n",
       "0   7 mins 14 secs          5.0        1613101016  16SCSE101757   \n",
       "1  15 mins 41 secs          7.0        1613101026  16SCSE101415   \n",
       "2  16 mins 52 secs          5.0        1613101051  16SCSE101222   \n",
       "\n",
       "     studentname  studentEmail  \n",
       "0  AAYUSH  TYAGI           NaN  \n",
       "1       ABHISHEK           NaN  \n",
       "2   ADITI  SINGH           NaN  "
      ]
     },
     "execution_count": 16,
     "metadata": {},
     "output_type": "execute_result"
    }
   ],
   "source": [
    "#qz = pd.merge(file[0],quiz_1,left_on='studentName',right_on='studentname',how='left')\n",
    "#qz.shape\n",
    "\n",
    "#quiz-1\n",
    "n = 18\n",
    "b_q1 = []\n",
    "for i in range(n+1):\n",
    "    qz = pd.merge(file[i],quiz_1,left_on='studentName',right_on='studentname',how='left')\n",
    "    b_q1.append(qz)\n",
    "\n",
    "print(b_q1[0].shape)\n",
    "b_q1[0].head(3)\n",
    "\n",
    "#quiz-2\n",
    "b_q2 = []\n",
    "for i in range(n+1):\n",
    "    qz = pd.merge(file[i],quiz_2,left_on='studentName',right_on='studentname',how='left')\n",
    "    b_q2.append(qz)\n",
    "\n",
    "print(b_q2[0].shape)\n",
    "b_q1[0].head(3)"
   ]
  },
  {
   "cell_type": "code",
   "execution_count": null,
   "metadata": {},
   "outputs": [],
   "source": []
  },
  {
   "cell_type": "code",
   "execution_count": 17,
   "metadata": {},
   "outputs": [
    {
     "data": {
      "text/html": [
       "<div>\n",
       "<style scoped>\n",
       "    .dataframe tbody tr th:only-of-type {\n",
       "        vertical-align: middle;\n",
       "    }\n",
       "\n",
       "    .dataframe tbody tr th {\n",
       "        vertical-align: top;\n",
       "    }\n",
       "\n",
       "    .dataframe thead th {\n",
       "        text-align: right;\n",
       "    }\n",
       "</style>\n",
       "<table border=\"1\" class=\"dataframe\">\n",
       "  <thead>\n",
       "    <tr style=\"text-align: right;\">\n",
       "      <th></th>\n",
       "      <th>no of present</th>\n",
       "      <th>lessthan50</th>\n",
       "      <th>between50and60</th>\n",
       "      <th>between60and70</th>\n",
       "      <th>between70and80</th>\n",
       "      <th>greaterthan80</th>\n",
       "    </tr>\n",
       "  </thead>\n",
       "  <tbody>\n",
       "    <tr>\n",
       "      <th>Quiz_1</th>\n",
       "      <td>NaN</td>\n",
       "      <td>NaN</td>\n",
       "      <td>NaN</td>\n",
       "      <td>NaN</td>\n",
       "      <td>NaN</td>\n",
       "      <td>NaN</td>\n",
       "    </tr>\n",
       "    <tr>\n",
       "      <th>Quiz_2</th>\n",
       "      <td>NaN</td>\n",
       "      <td>NaN</td>\n",
       "      <td>NaN</td>\n",
       "      <td>NaN</td>\n",
       "      <td>NaN</td>\n",
       "      <td>NaN</td>\n",
       "    </tr>\n",
       "  </tbody>\n",
       "</table>\n",
       "</div>"
      ],
      "text/plain": [
       "       no of present lessthan50 between50and60 between60and70 between70and80  \\\n",
       "Quiz_1           NaN        NaN            NaN            NaN            NaN   \n",
       "Quiz_2           NaN        NaN            NaN            NaN            NaN   \n",
       "\n",
       "       greaterthan80  \n",
       "Quiz_1           NaN  \n",
       "Quiz_2           NaN  "
      ]
     },
     "execution_count": 17,
     "metadata": {},
     "output_type": "execute_result"
    }
   ],
   "source": [
    "result1= pd.DataFrame (columns = [\"no of present\", \"lessthan50\", \"between50and60\", \n",
    "                                  \"between60and70\", \"between70and80\", \"greaterthan80\"],index=[\"Quiz_1\",\"Quiz_2\"])\n",
    "result1"
   ]
  },
  {
   "cell_type": "code",
   "execution_count": 18,
   "metadata": {},
   "outputs": [
    {
     "data": {
      "text/html": [
       "<div>\n",
       "<style scoped>\n",
       "    .dataframe tbody tr th:only-of-type {\n",
       "        vertical-align: middle;\n",
       "    }\n",
       "\n",
       "    .dataframe tbody tr th {\n",
       "        vertical-align: top;\n",
       "    }\n",
       "\n",
       "    .dataframe thead th {\n",
       "        text-align: right;\n",
       "    }\n",
       "</style>\n",
       "<table border=\"1\" class=\"dataframe\">\n",
       "  <thead>\n",
       "    <tr style=\"text-align: right;\">\n",
       "      <th></th>\n",
       "      <th>no of present</th>\n",
       "      <th>lessthan50</th>\n",
       "      <th>between50and60</th>\n",
       "      <th>between60and70</th>\n",
       "      <th>between70and80</th>\n",
       "      <th>greaterthan80</th>\n",
       "    </tr>\n",
       "  </thead>\n",
       "  <tbody>\n",
       "    <tr>\n",
       "      <th>Quiz_1</th>\n",
       "      <td>63</td>\n",
       "      <td>24</td>\n",
       "      <td>10</td>\n",
       "      <td>4</td>\n",
       "      <td>5</td>\n",
       "      <td>20</td>\n",
       "    </tr>\n",
       "    <tr>\n",
       "      <th>Quiz_2</th>\n",
       "      <td>63</td>\n",
       "      <td>25</td>\n",
       "      <td>3</td>\n",
       "      <td>1</td>\n",
       "      <td>0</td>\n",
       "      <td>34</td>\n",
       "    </tr>\n",
       "  </tbody>\n",
       "</table>\n",
       "</div>"
      ],
      "text/plain": [
       "        no of present  lessthan50  between50and60  between60and70  \\\n",
       "Quiz_1             63          24              10               4   \n",
       "Quiz_2             63          25               3               1   \n",
       "\n",
       "        between70and80  greaterthan80  \n",
       "Quiz_1               5             20  \n",
       "Quiz_2               0             34  "
      ]
     },
     "execution_count": 18,
     "metadata": {},
     "output_type": "execute_result"
    }
   ],
   "source": [
    "#batch[0].info()\n",
    "\n",
    "result1[\"no of present\"]= [b_q1[0][\"studentName\"].count(),b_q2[0][\"studentName\"].count()]\n",
    "result1[\"lessthan50\"] = [b_q1[0][b_q1[0][\"Grade/10.00\"].between(0,4.9,inclusive=True)][\"studentName\"].count(),\n",
    "                         b_q2[0][b_q2[0][\"Grade/10.00\"].between(0,4.9)][\"studentName\"].count()]\n",
    "result1[\"between50and60\"] = [b_q1[0][b_q1[0][\"Grade/10.00\"].between(5,5.9,inclusive=True)][\"studentName\"].count(),\n",
    "                             b_q2[0][b_q2[0][\"Grade/10.00\"].between(5,5.9,inclusive=True)][\"studentName\"].count()]\n",
    "result1[\"between60and70\"] = [b_q1[0][b_q1[0][\"Grade/10.00\"].between(6,6.9,inclusive=True)][\"studentName\"].count(),\n",
    "                             b_q2[0][b_q2[0][\"Grade/10.00\"].between(6,6.9,inclusive=True)][\"studentName\"].count()]\n",
    "result1[\"between70and80\"] = [b_q1[0][b_q1[0][\"Grade/10.00\"].between(7,7.9,inclusive=True)][\"studentName\"].count(),\n",
    "                             b_q2[0][b_q2[0][\"Grade/10.00\"].between(7,7.9,inclusive=True)][\"studentName\"].count()]\n",
    "result1[\"greaterthan80\"] = [b_q1[0][b_q1[0][\"Grade/10.00\"].between(8,10,inclusive=True)][\"studentName\"].count(),\n",
    "                            b_q2[0][b_q2[0][\"Grade/10.00\"].between(8,10,inclusive=True)][\"studentName\"].count()]\n",
    "\n",
    "result1\n",
    "#b_q1[0][b_q1[0][\"Grade/10.00\"].between(0,5,inclusive=True)][\"studentname\"].count()\n",
    "#b_q1[0][\"Grade/10.00\"].unique()"
   ]
  },
  {
   "cell_type": "code",
   "execution_count": 19,
   "metadata": {},
   "outputs": [
    {
     "data": {
      "text/html": [
       "<div>\n",
       "<style scoped>\n",
       "    .dataframe tbody tr th:only-of-type {\n",
       "        vertical-align: middle;\n",
       "    }\n",
       "\n",
       "    .dataframe tbody tr th {\n",
       "        vertical-align: top;\n",
       "    }\n",
       "\n",
       "    .dataframe thead th {\n",
       "        text-align: right;\n",
       "    }\n",
       "</style>\n",
       "<table border=\"1\" class=\"dataframe\">\n",
       "  <thead>\n",
       "    <tr style=\"text-align: right;\">\n",
       "      <th></th>\n",
       "      <th>no of present</th>\n",
       "      <th>lessthan50</th>\n",
       "      <th>between50and60</th>\n",
       "      <th>between60and70</th>\n",
       "      <th>between70and80</th>\n",
       "      <th>greaterthan80</th>\n",
       "    </tr>\n",
       "  </thead>\n",
       "  <tbody>\n",
       "    <tr>\n",
       "      <th>Quiz_1</th>\n",
       "      <td>63</td>\n",
       "      <td>24</td>\n",
       "      <td>10</td>\n",
       "      <td>4</td>\n",
       "      <td>5</td>\n",
       "      <td>20</td>\n",
       "    </tr>\n",
       "    <tr>\n",
       "      <th>Quiz_2</th>\n",
       "      <td>63</td>\n",
       "      <td>25</td>\n",
       "      <td>3</td>\n",
       "      <td>1</td>\n",
       "      <td>0</td>\n",
       "      <td>34</td>\n",
       "    </tr>\n",
       "  </tbody>\n",
       "</table>\n",
       "</div>"
      ],
      "text/plain": [
       "        no of present  lessthan50  between50and60  between60and70  \\\n",
       "Quiz_1             63          24              10               4   \n",
       "Quiz_2             63          25               3               1   \n",
       "\n",
       "        between70and80  greaterthan80  \n",
       "Quiz_1               5             20  \n",
       "Quiz_2               0             34  "
      ]
     },
     "execution_count": 19,
     "metadata": {},
     "output_type": "execute_result"
    }
   ],
   "source": [
    "rst = []\n",
    "\n",
    "for i in range(n+1):\n",
    "    result= pd.DataFrame (columns = [\"no of present\", \"lessthan50\", \"between50and60\", \n",
    "                                  \"between60and70\", \"between70and80\", \"greaterthan80\"],index=[\"Quiz_1\",\"Quiz_2\"])\n",
    "    result[\"no of present\"]= [b_q1[i][\"studentname\"].count(),b_q2[i][\"studentName\"].count()]\n",
    "    result[\"lessthan50\"] = [b_q1[i][b_q1[i][\"Grade/10.00\"].between(0,4.9,inclusive=True)][\"studentName\"].count(),b_q2[i][b_q2[i][\"Grade/10.00\"].between(0,4.9)][\"studentName\"].count()]\n",
    "    result[\"between50and60\"] = [b_q1[i][b_q1[i][\"Grade/10.00\"].between(5,5.9,inclusive=True)][\"studentName\"].count(),b_q2[i][b_q2[i][\"Grade/10.00\"].between(5,5.9,inclusive=True)][\"studentName\"].count()]\n",
    "    result[\"between60and70\"] = [b_q1[i][b_q1[i][\"Grade/10.00\"].between(6,6.9,inclusive=True)][\"studentName\"].count(),b_q2[i][b_q2[i][\"Grade/10.00\"].between(6,6.9,inclusive=True)][\"studentName\"].count()]\n",
    "    result[\"between70and80\"] = [b_q1[i][b_q1[i][\"Grade/10.00\"].between(7,7.9,inclusive=True)][\"studentName\"].count(),b_q2[i][b_q2[i][\"Grade/10.00\"].between(7,7.9,inclusive=True)][\"studentName\"].count()]\n",
    "    result[\"greaterthan80\"] = [b_q1[i][b_q1[i][\"Grade/10.00\"].between(8,10,inclusive=True)][\"studentName\"].count(),b_q2[i][b_q2[i][\"Grade/10.00\"].between(8,10,inclusive=True)][\"studentName\"].count()]\n",
    "    rst.append(result)\n",
    "    \n",
    "rst[0]\n",
    "#b_q1[0][\"studentName\"].count()"
   ]
  },
  {
   "cell_type": "code",
   "execution_count": 20,
   "metadata": {},
   "outputs": [
    {
     "data": {
      "text/html": [
       "<div>\n",
       "<style scoped>\n",
       "    .dataframe tbody tr th:only-of-type {\n",
       "        vertical-align: middle;\n",
       "    }\n",
       "\n",
       "    .dataframe tbody tr th {\n",
       "        vertical-align: top;\n",
       "    }\n",
       "\n",
       "    .dataframe thead th {\n",
       "        text-align: right;\n",
       "    }\n",
       "</style>\n",
       "<table border=\"1\" class=\"dataframe\">\n",
       "  <thead>\n",
       "    <tr style=\"text-align: right;\">\n",
       "      <th></th>\n",
       "      <th>inputs</th>\n",
       "    </tr>\n",
       "  </thead>\n",
       "  <tbody>\n",
       "    <tr>\n",
       "      <th>0</th>\n",
       "      <td>3</td>\n",
       "    </tr>\n",
       "    <tr>\n",
       "      <th>1</th>\n",
       "      <td>1.csv</td>\n",
       "    </tr>\n",
       "    <tr>\n",
       "      <th>2</th>\n",
       "      <td>greaterthan80</td>\n",
       "    </tr>\n",
       "    <tr>\n",
       "      <th>3</th>\n",
       "      <td>9.csv</td>\n",
       "    </tr>\n",
       "    <tr>\n",
       "      <th>4</th>\n",
       "      <td>lessthan50</td>\n",
       "    </tr>\n",
       "    <tr>\n",
       "      <th>5</th>\n",
       "      <td>5.csv</td>\n",
       "    </tr>\n",
       "    <tr>\n",
       "      <th>6</th>\n",
       "      <td>lessthan50</td>\n",
       "    </tr>\n",
       "  </tbody>\n",
       "</table>\n",
       "</div>"
      ],
      "text/plain": [
       "          inputs\n",
       "0              3\n",
       "1          1.csv\n",
       "2  greaterthan80\n",
       "3          9.csv\n",
       "4     lessthan50\n",
       "5          5.csv\n",
       "6     lessthan50"
      ]
     },
     "execution_count": 20,
     "metadata": {},
     "output_type": "execute_result"
    }
   ],
   "source": [
    "txt = pd.read_csv(\"testcaseStudent.txt\",header=-1,names=[\"inputs\"])\n",
    "txt\n",
    "#use range\n",
    "#rst[0][\"greaterthan80\"]"
   ]
  },
  {
   "cell_type": "code",
   "execution_count": 21,
   "metadata": {
    "scrolled": true
   },
   "outputs": [
    {
     "data": {
      "text/plain": [
       "[0, 1, 2, 3, 4, 5, 6]"
      ]
     },
     "execution_count": 21,
     "metadata": {},
     "output_type": "execute_result"
    }
   ],
   "source": [
    "tst_cs = int(txt.iloc[0,0])\n",
    "ind = []\n",
    "for i in range(tst_cs*2+1):\n",
    "    ind.append(i)\n",
    "    \n",
    "ind"
   ]
  },
  {
   "cell_type": "code",
   "execution_count": 22,
   "metadata": {},
   "outputs": [
    {
     "name": "stdout",
     "output_type": "stream",
     "text": [
      "[1, 3, 5]\n",
      "[2, 4, 6]\n"
     ]
    }
   ],
   "source": [
    "file_name = ind[1::2]\n",
    "column = ind[2::2]\n",
    "print(file_name)\n",
    "print(column)"
   ]
  },
  {
   "cell_type": "code",
   "execution_count": 23,
   "metadata": {},
   "outputs": [
    {
     "name": "stdout",
     "output_type": "stream",
     "text": [
      "[1, 9, 5]\n",
      "['greaterthan80', 'lessthan50', 'lessthan50']\n"
     ]
    },
    {
     "data": {
      "text/plain": [
       "[1, 9, 5]"
      ]
     },
     "execution_count": 23,
     "metadata": {},
     "output_type": "execute_result"
    }
   ],
   "source": [
    "v = []\n",
    "for i in file_name:\n",
    "    x = txt.iloc[i,0]\n",
    "    y = int(x[0])\n",
    "    v.append(y)\n",
    "#sub -1 to match index\n",
    "a = [i - 1 for i in v]\n",
    "\n",
    "c = []\n",
    "for i in column:\n",
    "    x = txt.iloc[i,0]\n",
    "    c.append(x)\n",
    "\n",
    "print(v)\n",
    "print(c)\n",
    "v"
   ]
  },
  {
   "cell_type": "code",
   "execution_count": 24,
   "metadata": {},
   "outputs": [
    {
     "name": "stdout",
     "output_type": "stream",
     "text": [
      "Quiz_1    20\n",
      "Quiz_2    34\n",
      "Name: greaterthan80, dtype: int64\n",
      "[0]\n",
      "Quiz_1    33\n",
      "Quiz_2    16\n",
      "Name: lessthan50, dtype: int64\n",
      "[8]\n",
      "Quiz_1    14\n",
      "Quiz_2    22\n",
      "Name: lessthan50, dtype: int64\n",
      "[4]\n"
     ]
    }
   ],
   "source": [
    "for (x,y) in zip(a,c):\n",
    "    print(rst[x][y])\n",
    "    print([x])\n"
   ]
  },
  {
   "cell_type": "code",
   "execution_count": 25,
   "metadata": {
    "scrolled": false
   },
   "outputs": [],
   "source": [
    "for (x,y,z) in zip(a,c,v):\n",
    "    out = \"Output{}.txt\".format(z)\n",
    "    f = open(out, \"a\")\n",
    "    print(rst[x][y], file=f)"
   ]
  },
  {
   "cell_type": "code",
   "execution_count": null,
   "metadata": {},
   "outputs": [],
   "source": []
  }
 ],
 "metadata": {
  "kernelspec": {
   "display_name": "Python 3",
   "language": "python",
   "name": "python3"
  },
  "language_info": {
   "codemirror_mode": {
    "name": "ipython",
    "version": 3
   },
   "file_extension": ".py",
   "mimetype": "text/x-python",
   "name": "python",
   "nbconvert_exporter": "python",
   "pygments_lexer": "ipython3",
   "version": "3.7.3"
  }
 },
 "nbformat": 4,
 "nbformat_minor": 2
}
