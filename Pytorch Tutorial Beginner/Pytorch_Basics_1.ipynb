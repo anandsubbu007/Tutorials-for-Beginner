{
  "nbformat": 4,
  "nbformat_minor": 0,
  "metadata": {
    "colab": {
      "name": "Pytorch_Basics - 1.ipynb",
      "provenance": [],
      "collapsed_sections": [],
      "authorship_tag": "ABX9TyNdtkh5cpxxxRWPnKxeEBE7",
      "include_colab_link": true
    },
    "kernelspec": {
      "name": "python3",
      "display_name": "Python 3"
    },
    "accelerator": "GPU"
  },
  "cells": [
    {
      "cell_type": "markdown",
      "metadata": {
        "id": "view-in-github",
        "colab_type": "text"
      },
      "source": [
        "<a href=\"https://colab.research.google.com/github/anandsubbu007/Pytorch-Tutorial-Beginner/blob/master/Pytorch_Basics_1.ipynb\" target=\"_parent\"><img src=\"https://colab.research.google.com/assets/colab-badge.svg\" alt=\"Open In Colab\"/></a>"
      ]
    },
    {
      "cell_type": "markdown",
      "metadata": {
        "id": "gL2SKXWkydgL",
        "colab_type": "text"
      },
      "source": [
        "# Pytorch"
      ]
    },
    {
      "cell_type": "markdown",
      "metadata": {
        "id": "7yszj5BByuYE",
        "colab_type": "text"
      },
      "source": [
        "It’s a Python based scientific computing package targeted at two sets of audiences:\n",
        "\n",
        "* Tensorial library that uses the power of GPUs\n",
        "* A deep learning research platform that provides maximum flexibility and speed"
      ]
    },
    {
      "cell_type": "markdown",
      "metadata": {
        "id": "MBuiHWSM-_J8",
        "colab_type": "text"
      },
      "source": [
        "# Scope of this Notebook"
      ]
    },
    {
      "cell_type": "markdown",
      "metadata": {
        "id": "0-pohMfH_DdW",
        "colab_type": "text"
      },
      "source": [
        "### In this, we are going to use Pytorch as Numpy."
      ]
    },
    {
      "cell_type": "markdown",
      "metadata": {
        "id": "Cw-uAH4f_fMK",
        "colab_type": "text"
      },
      "source": [
        "# Pytorch Vs Numpy"
      ]
    },
    {
      "cell_type": "code",
      "metadata": {
        "id": "D-lyXDVuvT0K",
        "colab_type": "code",
        "colab": {}
      },
      "source": [
        "#Importing Library\n",
        "import torch\n",
        "import numpy as np"
      ],
      "execution_count": 0,
      "outputs": []
    },
    {
      "cell_type": "code",
      "metadata": {
        "id": "-apQcXfd9FrH",
        "colab_type": "code",
        "outputId": "b3b147c7-ffa9-445d-8e27-f99a530db88b",
        "colab": {
          "base_uri": "https://localhost:8080/",
          "height": 51
        }
      },
      "source": [
        "#tuples\n",
        "lst = ([1,2],[2,3])\n",
        "print(lst)\n",
        "print(type(lst))"
      ],
      "execution_count": 0,
      "outputs": [
        {
          "output_type": "stream",
          "text": [
            "([1, 2], [2, 3])\n",
            "<class 'tuple'>\n"
          ],
          "name": "stdout"
        }
      ]
    },
    {
      "cell_type": "code",
      "metadata": {
        "id": "34luQdERADdL",
        "colab_type": "code",
        "outputId": "8591fac9-53f4-4bfd-b8c2-193d13ac750c",
        "colab": {
          "base_uri": "https://localhost:8080/",
          "height": 68
        }
      },
      "source": [
        "#tuples --> tensor\n",
        "l = torch.tensor(lst)\n",
        "print(l)\n",
        "print(type(l))"
      ],
      "execution_count": 0,
      "outputs": [
        {
          "output_type": "stream",
          "text": [
            "tensor([[1, 2],\n",
            "        [2, 3]])\n",
            "<class 'torch.Tensor'>\n"
          ],
          "name": "stdout"
        }
      ]
    },
    {
      "cell_type": "code",
      "metadata": {
        "id": "_pXf0e7hASWN",
        "colab_type": "code",
        "outputId": "d6f33528-5986-435f-e7e2-189c31607bdf",
        "colab": {
          "base_uri": "https://localhost:8080/",
          "height": 51
        }
      },
      "source": [
        "#Numpy --> tensor\n",
        "l1 = torch.tensor(np.array([1,2,3,4,5]))\n",
        "print(l1)\n",
        "print(type(l1))"
      ],
      "execution_count": 0,
      "outputs": [
        {
          "output_type": "stream",
          "text": [
            "tensor([1, 2, 3, 4, 5])\n",
            "<class 'torch.Tensor'>\n"
          ],
          "name": "stdout"
        }
      ]
    },
    {
      "cell_type": "code",
      "metadata": {
        "id": "ukdPNBYGn5Nl",
        "colab_type": "code",
        "outputId": "31a5c5ac-a19d-48c3-f666-aebc985fadf9",
        "colab": {
          "base_uri": "https://localhost:8080/",
          "height": 51
        }
      },
      "source": [
        "#Tensor to Numpy\n",
        "l2 = l1.numpy()\n",
        "print(l2)\n",
        "print(type(l2))"
      ],
      "execution_count": 0,
      "outputs": [
        {
          "output_type": "stream",
          "text": [
            "[1 2 3 4 5]\n",
            "<class 'numpy.ndarray'>\n"
          ],
          "name": "stdout"
        }
      ]
    },
    {
      "cell_type": "code",
      "metadata": {
        "id": "sJnl_G7gBFSe",
        "colab_type": "code",
        "outputId": "0d7e2ba5-68f3-4499-d8a9-4e92c45a6f2b",
        "colab": {
          "base_uri": "https://localhost:8080/",
          "height": 51
        }
      },
      "source": [
        "#Other Tensor Formates\n",
        "print(\"Empty Tensor    :\",torch.tensor([]))\n",
        "print(\"Float Tensor    :\",torch.tensor([1,2,3],dtype=torch.float))"
      ],
      "execution_count": 0,
      "outputs": [
        {
          "output_type": "stream",
          "text": [
            "Empty Tensor    : tensor([])\n",
            "Float Tensor    : tensor([1., 2., 3.])\n"
          ],
          "name": "stdout"
        }
      ]
    },
    {
      "cell_type": "markdown",
      "metadata": {
        "id": "jhnNX26nBan1",
        "colab_type": "text"
      },
      "source": [
        "## Ways of creaing Tensor array"
      ]
    },
    {
      "cell_type": "code",
      "metadata": {
        "id": "sYcOU-DICOjb",
        "colab_type": "code",
        "outputId": "e55dc35c-ccc7-4cea-b6b2-d1f0d0e91a78",
        "colab": {
          "base_uri": "https://localhost:8080/",
          "height": 493
        }
      },
      "source": [
        "print(\"Torch of Ones  :\\n\",torch.ones(3,3))\n",
        "print(\"\\nTorch of Zeros :\\n\",torch.zeros(3,2))\n",
        "print(\"\\nTorch of Randomn Number :\\n\",torch.rand(2,3))\n",
        "print(\"\\nTorch with Range of Number :\\n\",torch.arange(1,5))\n",
        "print(\"\\nTorch with Linespace of Number :\\n\",torch.linspace(1,10,6))\n",
        "print(\"\\nTorch with Identity Matrix :\\n\",torch.eye(3))\n",
        "print(\"\\nTorch with complete Matrix :\\n\",torch.full((2,3),3))"
      ],
      "execution_count": 0,
      "outputs": [
        {
          "output_type": "stream",
          "text": [
            "Torch of Ones  :\n",
            " tensor([[1., 1., 1.],\n",
            "        [1., 1., 1.],\n",
            "        [1., 1., 1.]])\n",
            "\n",
            "Torch of Zeros :\n",
            " tensor([[0., 0.],\n",
            "        [0., 0.],\n",
            "        [0., 0.]])\n",
            "\n",
            "Torch of Randomn Number :\n",
            " tensor([[0.7680, 0.4237, 0.4676],\n",
            "        [0.6988, 0.0618, 0.8387]])\n",
            "\n",
            "Torch with Range of Number :\n",
            " tensor([1, 2, 3, 4])\n",
            "\n",
            "Torch with Linespace of Number :\n",
            " tensor([ 1.0000,  2.8000,  4.6000,  6.4000,  8.2000, 10.0000])\n",
            "\n",
            "Torch with Identity Matrix :\n",
            " tensor([[1., 0., 0.],\n",
            "        [0., 1., 0.],\n",
            "        [0., 0., 1.]])\n",
            "\n",
            "Torch with complete Matrix :\n",
            " tensor([[3., 3., 3.],\n",
            "        [3., 3., 3.]])\n"
          ],
          "name": "stdout"
        }
      ]
    },
    {
      "cell_type": "markdown",
      "metadata": {
        "id": "4xIK_SH9CbzL",
        "colab_type": "text"
      },
      "source": [
        "## Reshape & Slicing\n",
        "\n",
        "It is almost similar to reshape & slice in List"
      ]
    },
    {
      "cell_type": "markdown",
      "metadata": {
        "id": "0m_RA4awFHHT",
        "colab_type": "text"
      },
      "source": [
        "#### Reshape tensor (matrix)\n",
        "\n",
        "There are two way to reshape the tensor using .view & .reshape\n",
        "\n",
        "* Tensor.view() works only on contiguous tensors and will never copy memory. It will raise an error on a non-contiguous tensor.\n",
        "* Tensor.reshape() will work on any tensor and can make a clone if it is needed.\n"
      ]
    },
    {
      "cell_type": "code",
      "metadata": {
        "id": "4MsFer70FjHP",
        "colab_type": "code",
        "outputId": "5046c10d-ef8d-410a-f324-a429c83f8dd4",
        "colab": {
          "base_uri": "https://localhost:8080/",
          "height": 272
        }
      },
      "source": [
        "l = torch.arange(8)\n",
        "v = l.view(2,4)\n",
        "r = l.reshape(4,2)\n",
        "print(\"A tensor of range 7 : \", l)\n",
        "print(\"\\nWhen we use view    \\n\",v)\n",
        "print(\"\\nWhen we use Reshape \\n\",r)\n",
        "print(\"\\nFind value in tensor using index of value  :  \",v[1,3].item())\n",
        "print(\"\\nFind value in tensor using index of value  :  \",r[2,0].item())"
      ],
      "execution_count": 0,
      "outputs": [
        {
          "output_type": "stream",
          "text": [
            "A tensor of range 7 :  tensor([0, 1, 2, 3, 4, 5, 6, 7])\n",
            "\n",
            "When we use view    \n",
            " tensor([[0, 1, 2, 3],\n",
            "        [4, 5, 6, 7]])\n",
            "\n",
            "When we use Reshape \n",
            " tensor([[0, 1],\n",
            "        [2, 3],\n",
            "        [4, 5],\n",
            "        [6, 7]])\n",
            "\n",
            "Find value in tensor using index of value  :   7\n",
            "\n",
            "Find value in tensor using index of value  :   4\n"
          ],
          "name": "stdout"
        }
      ]
    },
    {
      "cell_type": "code",
      "metadata": {
        "id": "p7b_lZFDGIqX",
        "colab_type": "code",
        "outputId": "6bdd80d0-fd57-45fd-b539-24ea515c12a0",
        "colab": {
          "base_uri": "https://localhost:8080/",
          "height": 51
        }
      },
      "source": [
        "# slicing\n",
        "print(\"slicing the tensor  :\",l[2:6])\n",
        "print(\"slicing the tensor  :\",l[:4])"
      ],
      "execution_count": 0,
      "outputs": [
        {
          "output_type": "stream",
          "text": [
            "slicing the tensor  : tensor([2, 3, 4, 5])\n",
            "slicing the tensor  : tensor([0, 1, 2, 3])\n"
          ],
          "name": "stdout"
        }
      ]
    },
    {
      "cell_type": "markdown",
      "metadata": {
        "id": "t-gcuRZIII9b",
        "colab_type": "text"
      },
      "source": [
        "## Mathematical Operation on Tensor"
      ]
    },
    {
      "cell_type": "code",
      "metadata": {
        "id": "GHGxE6j7lg0B",
        "colab_type": "code",
        "outputId": "773731b7-20f8-4633-c835-77a58a47ad87",
        "colab": {
          "base_uri": "https://localhost:8080/",
          "height": 170
        }
      },
      "source": [
        "x = torch.ones(3,2)\n",
        "y = torch.full((3,2),3)\n",
        "print(\"Tensors of Ones   ,x :\\n\",x)\n",
        "print(\"\\nTensors of Full ,y :\\n\",y)"
      ],
      "execution_count": 0,
      "outputs": [
        {
          "output_type": "stream",
          "text": [
            "Tensors of Ones   ,x :\n",
            " tensor([[1., 1.],\n",
            "        [1., 1.],\n",
            "        [1., 1.]])\n",
            "\n",
            "Tensors of Full ,y :\n",
            " tensor([[3., 3.],\n",
            "        [3., 3.],\n",
            "        [3., 3.]])\n"
          ],
          "name": "stdout"
        }
      ]
    },
    {
      "cell_type": "code",
      "metadata": {
        "id": "sFd9XUU5mIMy",
        "colab_type": "code",
        "outputId": "759e228c-a984-4460-b431-f39038f970e4",
        "colab": {
          "base_uri": "https://localhost:8080/",
          "height": 340
        }
      },
      "source": [
        "print(\"Addition of Tensors      , x+y :\\n\",x+y)\n",
        "print(\"\\nSubtraction of Tensors   , x-y :\\n\",x-y)\n",
        "print(\"\\nMultiplication of Tensors, x*y :\\n\",x*y)\n",
        "print(\"\\nDivition of Tensors      , x/y :\\n\",x/y)"
      ],
      "execution_count": 0,
      "outputs": [
        {
          "output_type": "stream",
          "text": [
            "Addition of Tensors      , x+y :\n",
            " tensor([[4., 4.],\n",
            "        [4., 4.],\n",
            "        [4., 4.]])\n",
            "\n",
            "Subtraction of Tensors   , x-y :\n",
            " tensor([[-2., -2.],\n",
            "        [-2., -2.],\n",
            "        [-2., -2.]])\n",
            "\n",
            "Multiplication of Tensors, x*y :\n",
            " tensor([[3., 3.],\n",
            "        [3., 3.],\n",
            "        [3., 3.]])\n",
            "\n",
            "Divition of Tensors      , x/y :\n",
            " tensor([[0.3333, 0.3333],\n",
            "        [0.3333, 0.3333],\n",
            "        [0.3333, 0.3333]])\n"
          ],
          "name": "stdout"
        }
      ]
    },
    {
      "cell_type": "markdown",
      "metadata": {
        "id": "8QW6AsbQpaj4",
        "colab_type": "text"
      },
      "source": [
        "Torch is around 4 times faster than numpy"
      ]
    },
    {
      "cell_type": "markdown",
      "metadata": {
        "id": "x2r8Tdogp70w",
        "colab_type": "text"
      },
      "source": [
        "# CUDA\n",
        "\n",
        "CUDA is a parallel computing platform and application programming interface model created by Nvidia."
      ]
    },
    {
      "cell_type": "code",
      "metadata": {
        "id": "Qob99RfAqfbM",
        "colab_type": "code",
        "outputId": "5c445c9c-374e-4997-ae72-4f38ba7697e7",
        "colab": {
          "base_uri": "https://localhost:8080/",
          "height": 68
        }
      },
      "source": [
        "# IS cuda available in your Device\n",
        "print(\"IS cuda available in your Device  ?  : \",torch.cuda.is_available())\n",
        "print(\"Count of Available CUDA Device       : \",torch.cuda.device_count())\n",
        "print(\"Available Device Name                : \",torch.cuda.get_device_name())"
      ],
      "execution_count": 0,
      "outputs": [
        {
          "output_type": "stream",
          "text": [
            "IS cuda available in your Device  ?  :  True\n",
            "Count of Available CUDA Device       :  1\n",
            "Available Device Name                :  Tesla K80\n"
          ],
          "name": "stdout"
        }
      ]
    },
    {
      "cell_type": "code",
      "metadata": {
        "id": "0DaedekxsmB7",
        "colab_type": "code",
        "outputId": "f4da64d7-fe65-4ed8-cb65-8ff4ad4e24a7",
        "colab": {
          "base_uri": "https://localhost:8080/",
          "height": 102
        }
      },
      "source": [
        "#object for cuda device\n",
        "cuda0 = torch.device('cuda:0')\n",
        "print(\"Device used in this  :  \",type(cuda0))\n",
        "print(\"\\nSample torch with GPU device  :\\n\",torch.ones(2,2,device =cuda0))"
      ],
      "execution_count": 0,
      "outputs": [
        {
          "output_type": "stream",
          "text": [
            "Device used in this  :   <class 'torch.device'>\n",
            "\n",
            "Sample torch with GPU device  :\n",
            " tensor([[1., 1.],\n",
            "        [1., 1.]], device='cuda:0')\n"
          ],
          "name": "stdout"
        }
      ]
    },
    {
      "cell_type": "markdown",
      "metadata": {
        "id": "p-RCAr50twPq",
        "colab_type": "text"
      },
      "source": [
        "## Performance -  Numpy Vs CPU Tensors Vs GPU Tensors\n",
        "\n",
        "Computation Time"
      ]
    },
    {
      "cell_type": "markdown",
      "metadata": {
        "id": "GBGx78O2uDEc",
        "colab_type": "text"
      },
      "source": [
        "#### Numpy"
      ]
    },
    {
      "cell_type": "code",
      "metadata": {
        "id": "1Fq8WKb9o3Id",
        "colab_type": "code",
        "outputId": "f753883a-f88a-43b8-af57-0ed36f94ac67",
        "colab": {
          "base_uri": "https://localhost:8080/",
          "height": 51
        }
      },
      "source": [
        "%%time\n",
        "for i in range(1000):\n",
        "  x = np.random.randn(100,100)\n",
        "  y = np.random.randn(100,100)\n",
        "  z = x*y"
      ],
      "execution_count": 0,
      "outputs": [
        {
          "output_type": "stream",
          "text": [
            "CPU times: user 869 ms, sys: 4.43 ms, total: 873 ms\n",
            "Wall time: 877 ms\n"
          ],
          "name": "stdout"
        }
      ]
    },
    {
      "cell_type": "markdown",
      "metadata": {
        "id": "u-dpPT4huG31",
        "colab_type": "text"
      },
      "source": [
        "#### CPU Tensor"
      ]
    },
    {
      "cell_type": "code",
      "metadata": {
        "id": "QTgajTcUpCla",
        "colab_type": "code",
        "outputId": "2933d8c8-cf20-4573-a3e4-b76a16916c7b",
        "colab": {
          "base_uri": "https://localhost:8080/",
          "height": 51
        }
      },
      "source": [
        "%%time\n",
        "for i in range(1000):\n",
        "  x = torch.randn(100,100)\n",
        "  y = torch.randn(100,100)\n",
        "  z = x*y"
      ],
      "execution_count": 0,
      "outputs": [
        {
          "output_type": "stream",
          "text": [
            "CPU times: user 184 ms, sys: 1.08 ms, total: 185 ms\n",
            "Wall time: 186 ms\n"
          ],
          "name": "stdout"
        }
      ]
    },
    {
      "cell_type": "markdown",
      "metadata": {
        "id": "XJhdVJHOuLhW",
        "colab_type": "text"
      },
      "source": [
        "#### GPU Tensor"
      ]
    },
    {
      "cell_type": "code",
      "metadata": {
        "id": "bKWpI3P1uO4b",
        "colab_type": "code",
        "outputId": "df587be5-4ade-414f-e096-58b8c65a9713",
        "colab": {
          "base_uri": "https://localhost:8080/",
          "height": 51
        }
      },
      "source": [
        "%%time\n",
        "for i in range(100):\n",
        "  x = torch.randn(1000,1000,device = cuda0)\n",
        "  y = torch.randn(1000,1000,device =cuda0)\n",
        "  z = x*y"
      ],
      "execution_count": 0,
      "outputs": [
        {
          "output_type": "stream",
          "text": [
            "CPU times: user 11 ms, sys: 0 ns, total: 11 ms\n",
            "Wall time: 12.1 ms\n"
          ],
          "name": "stdout"
        }
      ]
    }
  ]
}