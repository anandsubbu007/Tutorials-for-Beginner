{
  "nbformat": 4,
  "nbformat_minor": 0,
  "metadata": {
    "colab": {
      "name": "4.CNN_CIFAR10_Part-1.ipynb",
      "provenance": [],
      "collapsed_sections": [],
      "authorship_tag": "ABX9TyMwLp9EnUTwnjOJtkBE3RHY",
      "include_colab_link": true
    },
    "kernelspec": {
      "name": "python3",
      "display_name": "Python 3"
    },
    "accelerator": "GPU",
    "widgets": {
      "application/vnd.jupyter.widget-state+json": {
        "2c37953d9a884e14ab01219a0133d8a2": {
          "model_module": "@jupyter-widgets/controls",
          "model_name": "HBoxModel",
          "state": {
            "_view_name": "HBoxView",
            "_dom_classes": [],
            "_model_name": "HBoxModel",
            "_view_module": "@jupyter-widgets/controls",
            "_model_module_version": "1.5.0",
            "_view_count": null,
            "_view_module_version": "1.5.0",
            "box_style": "",
            "layout": "IPY_MODEL_e1d9dfe9f73643388b17303f800eeee3",
            "_model_module": "@jupyter-widgets/controls",
            "children": [
              "IPY_MODEL_f55ecbc322014fd68e68fde7eb3d8d57",
              "IPY_MODEL_fe03306aa6a84829a5b81cfe10586432"
            ]
          }
        },
        "e1d9dfe9f73643388b17303f800eeee3": {
          "model_module": "@jupyter-widgets/base",
          "model_name": "LayoutModel",
          "state": {
            "_view_name": "LayoutView",
            "grid_template_rows": null,
            "right": null,
            "justify_content": null,
            "_view_module": "@jupyter-widgets/base",
            "overflow": null,
            "_model_module_version": "1.2.0",
            "_view_count": null,
            "flex_flow": null,
            "width": null,
            "min_width": null,
            "border": null,
            "align_items": null,
            "bottom": null,
            "_model_module": "@jupyter-widgets/base",
            "top": null,
            "grid_column": null,
            "overflow_y": null,
            "overflow_x": null,
            "grid_auto_flow": null,
            "grid_area": null,
            "grid_template_columns": null,
            "flex": null,
            "_model_name": "LayoutModel",
            "justify_items": null,
            "grid_row": null,
            "max_height": null,
            "align_content": null,
            "visibility": null,
            "align_self": null,
            "height": null,
            "min_height": null,
            "padding": null,
            "grid_auto_rows": null,
            "grid_gap": null,
            "max_width": null,
            "order": null,
            "_view_module_version": "1.2.0",
            "grid_template_areas": null,
            "object_position": null,
            "object_fit": null,
            "grid_auto_columns": null,
            "margin": null,
            "display": null,
            "left": null
          }
        },
        "f55ecbc322014fd68e68fde7eb3d8d57": {
          "model_module": "@jupyter-widgets/controls",
          "model_name": "IntProgressModel",
          "state": {
            "_view_name": "ProgressView",
            "style": "IPY_MODEL_408ae49aebe64ebcabb2b2d44837d58d",
            "_dom_classes": [],
            "description": "",
            "_model_name": "IntProgressModel",
            "bar_style": "info",
            "max": 1,
            "_view_module": "@jupyter-widgets/controls",
            "_model_module_version": "1.5.0",
            "value": 1,
            "_view_count": null,
            "_view_module_version": "1.5.0",
            "orientation": "horizontal",
            "min": 0,
            "description_tooltip": null,
            "_model_module": "@jupyter-widgets/controls",
            "layout": "IPY_MODEL_542b85ad73164d279c2ad6beef52a018"
          }
        },
        "fe03306aa6a84829a5b81cfe10586432": {
          "model_module": "@jupyter-widgets/controls",
          "model_name": "HTMLModel",
          "state": {
            "_view_name": "HTMLView",
            "style": "IPY_MODEL_1d91bc6172e84675a4045187700ab832",
            "_dom_classes": [],
            "description": "",
            "_model_name": "HTMLModel",
            "placeholder": "​",
            "_view_module": "@jupyter-widgets/controls",
            "_model_module_version": "1.5.0",
            "value": " 170500096/? [00:30&lt;00:00, 18015654.73it/s]",
            "_view_count": null,
            "_view_module_version": "1.5.0",
            "description_tooltip": null,
            "_model_module": "@jupyter-widgets/controls",
            "layout": "IPY_MODEL_872d4bca8c2d42deae595de9e5dd7599"
          }
        },
        "408ae49aebe64ebcabb2b2d44837d58d": {
          "model_module": "@jupyter-widgets/controls",
          "model_name": "ProgressStyleModel",
          "state": {
            "_view_name": "StyleView",
            "_model_name": "ProgressStyleModel",
            "description_width": "initial",
            "_view_module": "@jupyter-widgets/base",
            "_model_module_version": "1.5.0",
            "_view_count": null,
            "_view_module_version": "1.2.0",
            "bar_color": null,
            "_model_module": "@jupyter-widgets/controls"
          }
        },
        "542b85ad73164d279c2ad6beef52a018": {
          "model_module": "@jupyter-widgets/base",
          "model_name": "LayoutModel",
          "state": {
            "_view_name": "LayoutView",
            "grid_template_rows": null,
            "right": null,
            "justify_content": null,
            "_view_module": "@jupyter-widgets/base",
            "overflow": null,
            "_model_module_version": "1.2.0",
            "_view_count": null,
            "flex_flow": null,
            "width": null,
            "min_width": null,
            "border": null,
            "align_items": null,
            "bottom": null,
            "_model_module": "@jupyter-widgets/base",
            "top": null,
            "grid_column": null,
            "overflow_y": null,
            "overflow_x": null,
            "grid_auto_flow": null,
            "grid_area": null,
            "grid_template_columns": null,
            "flex": null,
            "_model_name": "LayoutModel",
            "justify_items": null,
            "grid_row": null,
            "max_height": null,
            "align_content": null,
            "visibility": null,
            "align_self": null,
            "height": null,
            "min_height": null,
            "padding": null,
            "grid_auto_rows": null,
            "grid_gap": null,
            "max_width": null,
            "order": null,
            "_view_module_version": "1.2.0",
            "grid_template_areas": null,
            "object_position": null,
            "object_fit": null,
            "grid_auto_columns": null,
            "margin": null,
            "display": null,
            "left": null
          }
        },
        "1d91bc6172e84675a4045187700ab832": {
          "model_module": "@jupyter-widgets/controls",
          "model_name": "DescriptionStyleModel",
          "state": {
            "_view_name": "StyleView",
            "_model_name": "DescriptionStyleModel",
            "description_width": "",
            "_view_module": "@jupyter-widgets/base",
            "_model_module_version": "1.5.0",
            "_view_count": null,
            "_view_module_version": "1.2.0",
            "_model_module": "@jupyter-widgets/controls"
          }
        },
        "872d4bca8c2d42deae595de9e5dd7599": {
          "model_module": "@jupyter-widgets/base",
          "model_name": "LayoutModel",
          "state": {
            "_view_name": "LayoutView",
            "grid_template_rows": null,
            "right": null,
            "justify_content": null,
            "_view_module": "@jupyter-widgets/base",
            "overflow": null,
            "_model_module_version": "1.2.0",
            "_view_count": null,
            "flex_flow": null,
            "width": null,
            "min_width": null,
            "border": null,
            "align_items": null,
            "bottom": null,
            "_model_module": "@jupyter-widgets/base",
            "top": null,
            "grid_column": null,
            "overflow_y": null,
            "overflow_x": null,
            "grid_auto_flow": null,
            "grid_area": null,
            "grid_template_columns": null,
            "flex": null,
            "_model_name": "LayoutModel",
            "justify_items": null,
            "grid_row": null,
            "max_height": null,
            "align_content": null,
            "visibility": null,
            "align_self": null,
            "height": null,
            "min_height": null,
            "padding": null,
            "grid_auto_rows": null,
            "grid_gap": null,
            "max_width": null,
            "order": null,
            "_view_module_version": "1.2.0",
            "grid_template_areas": null,
            "object_position": null,
            "object_fit": null,
            "grid_auto_columns": null,
            "margin": null,
            "display": null,
            "left": null
          }
        }
      }
    }
  },
  "cells": [
    {
      "cell_type": "markdown",
      "metadata": {
        "id": "view-in-github",
        "colab_type": "text"
      },
      "source": [
        "<a href=\"https://colab.research.google.com/github/anandsubbu007/Pytorch-Tutorial-Beginner/blob/master/4.CNN_CIFAR10_Part-1.ipynb\" target=\"_parent\"><img src=\"https://colab.research.google.com/assets/colab-badge.svg\" alt=\"Open In Colab\"/></a>"
      ]
    },
    {
      "cell_type": "markdown",
      "metadata": {
        "id": "opXXa6U8du-f",
        "colab_type": "text"
      },
      "source": [
        "# CNN with Tensor"
      ]
    },
    {
      "cell_type": "code",
      "metadata": {
        "id": "8-sEVyiQQ0tB",
        "colab_type": "code",
        "colab": {}
      },
      "source": [
        "# Importing Libraries\n",
        "import torch                       # pytorch\n",
        "import torch.nn as nn              # pytorch for neural network\n",
        "import numpy as np                 # for algebric functions\n",
        "import matplotlib.pyplot as plt    # to plot graph\n",
        "\n",
        "# torch vision package\n",
        "import torchvision                 # for handling image & has CNN architecture"
      ],
      "execution_count": 0,
      "outputs": []
    },
    {
      "cell_type": "markdown",
      "metadata": {
        "id": "9FUuN5rzdz9L",
        "colab_type": "text"
      },
      "source": [
        "## Importing Data"
      ]
    },
    {
      "cell_type": "code",
      "metadata": {
        "id": "IaZ5QACGTuJp",
        "colab_type": "code",
        "outputId": "68494a9b-351d-4b29-ce75-a8844efd3b4c",
        "colab": {
          "base_uri": "https://localhost:8080/",
          "height": 100,
          "referenced_widgets": [
            "2c37953d9a884e14ab01219a0133d8a2",
            "e1d9dfe9f73643388b17303f800eeee3",
            "f55ecbc322014fd68e68fde7eb3d8d57",
            "fe03306aa6a84829a5b81cfe10586432",
            "408ae49aebe64ebcabb2b2d44837d58d",
            "542b85ad73164d279c2ad6beef52a018",
            "1d91bc6172e84675a4045187700ab832",
            "872d4bca8c2d42deae595de9e5dd7599"
          ]
        }
      },
      "source": [
        "trainset = torchvision.datasets.CIFAR10(train=True,download=True,root= \"./data\",\n",
        "                                     transform= torchvision.transforms.ToTensor())\n",
        "#transform --> transform the data during creation (ToTensor())\n",
        "#download  --> to download to local file\n",
        "#root      --> data storage place\n",
        "#train     --> means training data from training set \n",
        "type(trainset)"
      ],
      "execution_count": 0,
      "outputs": [
        {
          "output_type": "stream",
          "text": [
            "Downloading https://www.cs.toronto.edu/~kriz/cifar-10-python.tar.gz to ./data/cifar-10-python.tar.gz\n"
          ],
          "name": "stdout"
        },
        {
          "output_type": "display_data",
          "data": {
            "application/vnd.jupyter.widget-view+json": {
              "model_id": "2c37953d9a884e14ab01219a0133d8a2",
              "version_minor": 0,
              "version_major": 2
            },
            "text/plain": [
              "HBox(children=(IntProgress(value=1, bar_style='info', max=1), HTML(value='')))"
            ]
          },
          "metadata": {
            "tags": []
          }
        },
        {
          "output_type": "stream",
          "text": [
            "Extracting ./data/cifar-10-python.tar.gz to ./data\n"
          ],
          "name": "stdout"
        },
        {
          "output_type": "execute_result",
          "data": {
            "text/plain": [
              "torchvision.datasets.cifar.CIFAR10"
            ]
          },
          "metadata": {
            "tags": []
          },
          "execution_count": 2
        }
      ]
    },
    {
      "cell_type": "code",
      "metadata": {
        "id": "XzN8O_gYUtDE",
        "colab_type": "code",
        "colab": {}
      },
      "source": [
        "#class labels [there are 10 lables]\n",
        "#this is the order of lable of this dataset\n",
        "classes = ('airplane', 'automobile', 'bird', 'cat', 'deer', 'dog', 'frog', 'horse', 'ship',' truck' )"
      ],
      "execution_count": 0,
      "outputs": []
    },
    {
      "cell_type": "markdown",
      "metadata": {
        "id": "1JOIQPKYdr8h",
        "colab_type": "text"
      },
      "source": [
        "## DataLoader"
      ]
    },
    {
      "cell_type": "code",
      "metadata": {
        "id": "nKM_DUwabPlE",
        "colab_type": "code",
        "outputId": "9b6ae613-b6a5-4e94-c825-388dd819d75a",
        "colab": {
          "base_uri": "https://localhost:8080/",
          "height": 34
        }
      },
      "source": [
        "#loading the dataset --> DataLoader class (torch.utils.data.DataLoader)\n",
        "trainloader = torch.utils.data.DataLoader(trainset)\n",
        "type(trainloader)"
      ],
      "execution_count": 0,
      "outputs": [
        {
          "output_type": "execute_result",
          "data": {
            "text/plain": [
              "torch.utils.data.dataloader.DataLoader"
            ]
          },
          "metadata": {
            "tags": []
          },
          "execution_count": 4
        }
      ]
    },
    {
      "cell_type": "code",
      "metadata": {
        "id": "1stG3MPPbeK1",
        "colab_type": "code",
        "outputId": "b514e658-3d64-4b53-b12c-0256f274e554",
        "colab": {
          "base_uri": "https://localhost:8080/",
          "height": 34
        }
      },
      "source": [
        "data_iter = iter(trainloader)\n",
        "type(data_iter)"
      ],
      "execution_count": 0,
      "outputs": [
        {
          "output_type": "execute_result",
          "data": {
            "text/plain": [
              "torch.utils.data.dataloader._SingleProcessDataLoaderIter"
            ]
          },
          "metadata": {
            "tags": []
          },
          "execution_count": 5
        }
      ]
    },
    {
      "cell_type": "code",
      "metadata": {
        "id": "qbHW6gYqcHVg",
        "colab_type": "code",
        "outputId": "fd28da1e-b0f2-4cd5-8132-2ea3aa4f9bb8",
        "colab": {
          "base_uri": "https://localhost:8080/",
          "height": 34
        }
      },
      "source": [
        "#Access the data --> next() method\n",
        "images,labels = data_iter.next()\n",
        "print(images.shape)"
      ],
      "execution_count": 0,
      "outputs": [
        {
          "output_type": "stream",
          "text": [
            "torch.Size([1, 3, 32, 32])\n"
          ],
          "name": "stdout"
        }
      ]
    },
    {
      "cell_type": "markdown",
      "metadata": {
        "id": "JLjwRVCMcsx5",
        "colab_type": "text"
      },
      "source": [
        "(1,3,32,32)\n",
        "\n",
        "1 - Batch Size, \n",
        "\n",
        "3 - channels in input,\n",
        "\n",
        "32,32 - shape of individual image "
      ]
    },
    {
      "cell_type": "code",
      "metadata": {
        "id": "6egPrrPndAXV",
        "colab_type": "code",
        "outputId": "03adbb9d-7078-4ffa-f47a-a8424ebe4b43",
        "colab": {
          "base_uri": "https://localhost:8080/",
          "height": 68
        }
      },
      "source": [
        "print(labels)\n",
        "print(labels.item())\n",
        "print(classes[labels.item()])"
      ],
      "execution_count": 0,
      "outputs": [
        {
          "output_type": "stream",
          "text": [
            "tensor([6])\n",
            "6\n",
            "frog\n"
          ],
          "name": "stdout"
        }
      ]
    },
    {
      "cell_type": "code",
      "metadata": {
        "id": "Xs5NJIC1dFwt",
        "colab_type": "code",
        "colab": {}
      },
      "source": [
        "#Specifying batch_size, Shuffle & load data in paralell using multiprocessing workers\n",
        "trainloader = torch.utils.data.DataLoader(trainset, batch_size = 4, shuffle = True)\n",
        "\n",
        "data_iter = iter(trainloader)\n",
        "images,labels = data_iter.next()"
      ],
      "execution_count": 0,
      "outputs": []
    },
    {
      "cell_type": "code",
      "metadata": {
        "id": "BaWUB5zedMyi",
        "colab_type": "code",
        "outputId": "5c99e882-aa7e-4148-c1a5-d76a5afa95d6",
        "colab": {
          "base_uri": "https://localhost:8080/",
          "height": 34
        }
      },
      "source": [
        "print(images.shape)"
      ],
      "execution_count": 0,
      "outputs": [
        {
          "output_type": "stream",
          "text": [
            "torch.Size([4, 3, 32, 32])\n"
          ],
          "name": "stdout"
        }
      ]
    },
    {
      "cell_type": "markdown",
      "metadata": {
        "id": "N_yJw5YBeHOO",
        "colab_type": "text"
      },
      "source": [
        "(4,3,32,32) -->\n",
        "\n",
        "4 - Batch Size(no. of images loaded), \n",
        "\n",
        "3 - channels in input,\n",
        "\n",
        "32,32 - shape of individual image "
      ]
    },
    {
      "cell_type": "code",
      "metadata": {
        "id": "G65ialSeeVD7",
        "colab_type": "code",
        "outputId": "abe39d13-68f7-4df3-e24f-a8f1a51255d4",
        "colab": {
          "base_uri": "https://localhost:8080/",
          "height": 68
        }
      },
      "source": [
        "print(labels)\n",
        "print([i.item() for i in labels])\n",
        "print([classes[i.item()] for i in labels])"
      ],
      "execution_count": 0,
      "outputs": [
        {
          "output_type": "stream",
          "text": [
            "tensor([6, 5, 1, 0])\n",
            "[6, 5, 1, 0]\n",
            "['frog', 'dog', 'automobile', 'airplane']\n"
          ],
          "name": "stdout"
        }
      ]
    },
    {
      "cell_type": "markdown",
      "metadata": {
        "id": "-OAEBd8oeYcV",
        "colab_type": "text"
      },
      "source": [
        "# Data Visualization"
      ]
    },
    {
      "cell_type": "code",
      "metadata": {
        "id": "J8KrtHDAiW36",
        "colab_type": "code",
        "outputId": "b839823a-b961-448e-bd40-bb62421a5760",
        "colab": {
          "base_uri": "https://localhost:8080/",
          "height": 34
        }
      },
      "source": [
        "img_data = images[0]\n",
        "img_data.shape"
      ],
      "execution_count": 0,
      "outputs": [
        {
          "output_type": "execute_result",
          "data": {
            "text/plain": [
              "torch.Size([3, 32, 32])"
            ]
          },
          "metadata": {
            "tags": []
          },
          "execution_count": 11
        }
      ]
    },
    {
      "cell_type": "code",
      "metadata": {
        "id": "L26SI_lHiYSJ",
        "colab_type": "code",
        "outputId": "54ca7caa-e151-4e81-c13d-4b23e69010a6",
        "colab": {
          "base_uri": "https://localhost:8080/",
          "height": 34
        }
      },
      "source": [
        "# tensor image shape format must be like [32,32,3] not like [3,32,32]. so we need to convert it.\n",
        "#we can't do this in tensor. so, we are going to use numpy\n",
        "\n",
        "np_image = img_data.numpy()                      #converting tensor --> numpy\n",
        "np_image = np.transpose(np_image, (1,2,0))         #transform\n",
        "print(np_image.shape)"
      ],
      "execution_count": 0,
      "outputs": [
        {
          "output_type": "stream",
          "text": [
            "(32, 32, 3)\n"
          ],
          "name": "stdout"
        }
      ]
    },
    {
      "cell_type": "code",
      "metadata": {
        "id": "wMtzVL4Gj5g3",
        "colab_type": "code",
        "outputId": "fe226f32-bc41-4d9f-cebc-97737a7c0b6d",
        "colab": {
          "base_uri": "https://localhost:8080/",
          "height": 176
        }
      },
      "source": [
        "#plotting the image\n",
        "plt.figure(figsize = (2,2))\n",
        "plt.imshow(np_image)\n",
        "print(classes[labels[0].item()])\n",
        "plt.show()"
      ],
      "execution_count": 0,
      "outputs": [
        {
          "output_type": "stream",
          "text": [
            "frog\n"
          ],
          "name": "stdout"
        },
        {
          "output_type": "display_data",
          "data": {
            "image/png": "[encoded data removed]",
            "text/plain": [
              "<Figure size 144x144 with 1 Axes>"
            ]
          },
          "metadata": {
            "tags": [],
            "needs_background": "light"
          }
        }
      ]
    },
    {
      "cell_type": "code",
      "metadata": {
        "id": "E3c8eHpnkCdY",
        "colab_type": "code",
        "colab": {}
      },
      "source": [
        "# creating function to view image\n",
        "def image_show(image_data):\n",
        "  np_image = image_data.numpy()\n",
        "  np_image = np.transpose(np_image, (1,2,0))\n",
        "  plt.figure(figsize = (2,2))\n",
        "  plt.imshow(np_image)\n",
        "  plt.show()"
      ],
      "execution_count": 0,
      "outputs": []
    },
    {
      "cell_type": "code",
      "metadata": {
        "id": "S38BbObKlKPy",
        "colab_type": "code",
        "outputId": "47030336-8cbd-43fc-d70b-70055ddfd492",
        "colab": {
          "base_uri": "https://localhost:8080/",
          "height": 176
        }
      },
      "source": [
        "print(classes[labels[2].item()])\n",
        "image_show(images[2])"
      ],
      "execution_count": 0,
      "outputs": [
        {
          "output_type": "stream",
          "text": [
            "automobile\n"
          ],
          "name": "stdout"
        },
        {
          "output_type": "display_data",
          "data": {
            "image/png": "[encoded data removed]",
            "text/plain": [
              "<Figure size 144x144 with 1 Axes>"
            ]
          },
          "metadata": {
            "tags": [],
            "needs_background": "light"
          }
        }
      ]
    },
    {
      "cell_type": "markdown",
      "metadata": {
        "id": "zg8wJJ29lNgn",
        "colab_type": "text"
      },
      "source": [
        "# First Convolution Layer"
      ]
    },
    {
      "cell_type": "code",
      "metadata": {
        "id": "jUQYwJaQosii",
        "colab_type": "code",
        "colab": {}
      },
      "source": [
        "class FirstNN(nn.Module):\n",
        "  def __init__(self):\n",
        "    super(FirstNN,self).__init__()\n",
        "    self.conv1 = nn.Conv2d(3,10,3)  #(no. of input channels, number of output channels, kernel size)\n",
        "    # kernel size --> 3 = (3,3)\n",
        "\n",
        "  def forward(self,x):\n",
        "    return self.conv1(x)"
      ],
      "execution_count": 0,
      "outputs": []
    },
    {
      "cell_type": "code",
      "metadata": {
        "id": "z1cOGE9XpZob",
        "colab_type": "code",
        "outputId": "7ed052a8-1be7-4273-dea7-2731e166fbd0",
        "colab": {
          "base_uri": "https://localhost:8080/",
          "height": 34
        }
      },
      "source": [
        "cnn = FirstNN()\n",
        "out = cnn(images)\n",
        "print(out.shape)"
      ],
      "execution_count": 0,
      "outputs": [
        {
          "output_type": "stream",
          "text": [
            "torch.Size([4, 10, 30, 30])\n"
          ],
          "name": "stdout"
        }
      ]
    },
    {
      "cell_type": "markdown",
      "metadata": {
        "id": "h5A12vDFpgql",
        "colab_type": "text"
      },
      "source": [
        "(4,10,30,30) \n",
        "\n",
        "    4             --> number of images (batch size)\n",
        "\n",
        "    10            --> Channels in output\n",
        "\n",
        "    (30,30)       --> Resultant image Size\n",
        "\n",
        "    **Default:**\n",
        "    Padding = (0,0), Stride  = (1,1)\n"
      ]
    },
    {
      "cell_type": "code",
      "metadata": {
        "id": "fBH9WG5CqFC2",
        "colab_type": "code",
        "outputId": "1071b009-0992-4c5f-84c8-a0b4b67b5a02",
        "colab": {
          "base_uri": "https://localhost:8080/",
          "height": 176
        }
      },
      "source": [
        "#image after convolution\n",
        "sample = out[0,0,:,:]\n",
        "print(sample.shape)\n",
        "plt.figure(figsize = (2,2))\n",
        "plt.imshow(sample.detach().numpy())\n",
        "plt.show()"
      ],
      "execution_count": 0,
      "outputs": [
        {
          "output_type": "stream",
          "text": [
            "torch.Size([30, 30])\n"
          ],
          "name": "stdout"
        },
        {
          "output_type": "display_data",
          "data": {
            "image/png": "[encoded data removed]",
            "text/plain": [
              "<Figure size 144x144 with 1 Axes>"
            ]
          },
          "metadata": {
            "tags": [],
            "needs_background": "light"
          }
        }
      ]
    },
    {
      "cell_type": "code",
      "metadata": {
        "id": "kEXH9XgAqLZH",
        "colab_type": "code",
        "outputId": "f35bf550-7214-493f-cbe3-7cf43c26fe65",
        "colab": {
          "base_uri": "https://localhost:8080/",
          "height": 159
        }
      },
      "source": [
        "#2nd filter\n",
        "sample = out[0,1,:,:]\n",
        "plt.figure(figsize = (2,2))\n",
        "plt.imshow(sample.detach().numpy())\n",
        "plt.show()"
      ],
      "execution_count": 0,
      "outputs": [
        {
          "output_type": "display_data",
          "data": {
            "image/png": "[encoded data removed]",
            "text/plain": [
              "<Figure size 144x144 with 1 Axes>"
            ]
          },
          "metadata": {
            "tags": [],
            "needs_background": "light"
          }
        }
      ]
    },
    {
      "cell_type": "markdown",
      "metadata": {
        "id": "1SiejCwprciT",
        "colab_type": "text"
      },
      "source": [
        "### With & without Padding & stride"
      ]
    },
    {
      "cell_type": "code",
      "metadata": {
        "id": "N_YJkgvnqRy4",
        "colab_type": "code",
        "colab": {}
      },
      "source": [
        "#Padding & Stride\n",
        "#By Default: Padding = (0,0) & Stride = (1,1)\n",
        "\n",
        "class FirstCNN(nn.Module):\n",
        "  def __init__(self):\n",
        "    super(FirstCNN,self).__init__()\n",
        "    self.conv1 = nn.Conv2d(3,10,3, padding = (1,1) )  # Padding = 1,1\n",
        "    # kernel size --> 3 = (3,3)\n",
        "  \n",
        "  def forward(self,x):\n",
        "    y = self.conv1(x)\n",
        "    return y"
      ],
      "execution_count": 0,
      "outputs": []
    },
    {
      "cell_type": "code",
      "metadata": {
        "id": "f_P11wUarS6F",
        "colab_type": "code",
        "outputId": "e9a6fe6c-045d-4b06-ef64-c595792f1ce1",
        "colab": {
          "base_uri": "https://localhost:8080/",
          "height": 34
        }
      },
      "source": [
        "cnn = FirstNN()\n",
        "out = cnn(images)\n",
        "print(out.shape)"
      ],
      "execution_count": 0,
      "outputs": [
        {
          "output_type": "stream",
          "text": [
            "torch.Size([4, 10, 30, 30])\n"
          ],
          "name": "stdout"
        }
      ]
    },
    {
      "cell_type": "markdown",
      "metadata": {
        "id": "c4Wqt60wrk3P",
        "colab_type": "text"
      },
      "source": [
        "Shape is reduced to 30,30 from 32,32"
      ]
    },
    {
      "cell_type": "code",
      "metadata": {
        "id": "tKOIKTPDrVPo",
        "colab_type": "code",
        "outputId": "4be88b1f-f7ed-4d75-deea-cf22bab61148",
        "colab": {
          "base_uri": "https://localhost:8080/",
          "height": 34
        }
      },
      "source": [
        "#Stride = 1\n",
        "\n",
        "class FirstCNN(nn.Module):\n",
        "  def __init__(self):\n",
        "    super(FirstCNN,self).__init__()\n",
        "    self.conv1 = nn.Conv2d(3,10,3, padding = (1,1), stride = (1,1) )  # Stride = 1,1\n",
        "    # kernel size --> 3 = (3,3)\n",
        "  \n",
        "  def forward(self,x):\n",
        "    y = self.conv1(x)\n",
        "    return y\n",
        "\n",
        "  \n",
        "cnn = FirstCNN()\n",
        "out = cnn(images)\n",
        "out.shape"
      ],
      "execution_count": 0,
      "outputs": [
        {
          "output_type": "execute_result",
          "data": {
            "text/plain": [
              "torch.Size([4, 10, 32, 32])"
            ]
          },
          "metadata": {
            "tags": []
          },
          "execution_count": 22
        }
      ]
    },
    {
      "cell_type": "markdown",
      "metadata": {
        "id": "unKSji0TrrvP",
        "colab_type": "text"
      },
      "source": [
        "No change in shape"
      ]
    },
    {
      "cell_type": "code",
      "metadata": {
        "id": "rAKUS7gDrXt1",
        "colab_type": "code",
        "outputId": "e976b2d2-cd60-411e-92e1-fe3fd7ca57d4",
        "colab": {
          "base_uri": "https://localhost:8080/",
          "height": 34
        }
      },
      "source": [
        "#Stride = 2\n",
        "\n",
        "class FirstCNN(nn.Module):\n",
        "  def __init__(self):\n",
        "    super(FirstCNN,self).__init__()\n",
        "    self.conv1 = nn.Conv2d(3,10,3, padding = (1,1), stride = (2,2) )  # Stride = 2,2\n",
        "    # kernel size --> 3 = (3,3)\n",
        "  \n",
        "  def forward(self,x):\n",
        "    y = self.conv1(x)\n",
        "    return y\n",
        "\n",
        "  \n",
        "cnn = FirstCNN()\n",
        "out = cnn(images)\n",
        "out.shape"
      ],
      "execution_count": 0,
      "outputs": [
        {
          "output_type": "execute_result",
          "data": {
            "text/plain": [
              "torch.Size([4, 10, 16, 16])"
            ]
          },
          "metadata": {
            "tags": []
          },
          "execution_count": 23
        }
      ]
    },
    {
      "cell_type": "markdown",
      "metadata": {
        "id": "3mGPUcIqru6W",
        "colab_type": "text"
      },
      "source": [
        "Shape is reduced into half"
      ]
    },
    {
      "cell_type": "code",
      "metadata": {
        "id": "X7U4g5BVrZoD",
        "colab_type": "code",
        "outputId": "04f4587b-5b35-400d-81be-986b92211c8f",
        "colab": {
          "base_uri": "https://localhost:8080/",
          "height": 34
        }
      },
      "source": [
        "#Stride = 2 without padding\n",
        "\n",
        "class FirstCNN(nn.Module):\n",
        "  def __init__(self):\n",
        "    super(FirstCNN,self).__init__()\n",
        "    self.conv1 = nn.Conv2d(3,10,3, stride = (2,2) )  # Stride = 2,2\n",
        "    # kernel size --> 3 = (3,3)\n",
        "  \n",
        "  def forward(self,x):\n",
        "    y = self.conv1(x)\n",
        "    return y\n",
        "\n",
        "  \n",
        "cnn = FirstCNN()\n",
        "out = cnn(images)\n",
        "out.shape"
      ],
      "execution_count": 0,
      "outputs": [
        {
          "output_type": "execute_result",
          "data": {
            "text/plain": [
              "torch.Size([4, 10, 15, 15])"
            ]
          },
          "metadata": {
            "tags": []
          },
          "execution_count": 24
        }
      ]
    },
    {
      "cell_type": "markdown",
      "metadata": {
        "colab_type": "text",
        "id": "bMIFyzIWH-LB"
      },
      "source": [
        "# Deep Convolution Networks"
      ]
    },
    {
      "cell_type": "code",
      "metadata": {
        "id": "gR9l1n9GD2CW",
        "colab_type": "code",
        "colab": {}
      },
      "source": [
        "class DeepCNN(nn.Module):\n",
        "  def __init__(self):\n",
        "    super(DeepCNN,self).__init__()\n",
        "    self.model = nn.Sequential(nn.Conv2d(3,10,3),\n",
        "                               nn.Conv2d(10,5,3))\n",
        "  def forward(self,x):\n",
        "    return self.model(x)"
      ],
      "execution_count": 0,
      "outputs": []
    },
    {
      "cell_type": "markdown",
      "metadata": {
        "id": "1Cv5rwTZFDuE",
        "colab_type": "text"
      },
      "source": [
        "### Intuition of Convolution:\n",
        "\n",
        "Input = 4,3,32,32\n",
        "\n",
        "    1st Convolution Layer --> Kernel = 3,3 & output channels = 10\n",
        "\n",
        "    Default padding = 0, Stride = 1\n",
        "\n",
        "    output, as a Result of 1st Convolution : 4,10,30,30\n",
        "\n",
        "---\n",
        "\n",
        "    2nd Convolution Layer --> Kernel = (3,3) & output channels = 5\n",
        "\n",
        "    Default padding = 0, Stride = 1\n",
        "\n",
        "    output, as a Result of 2nd Convolution :  4,5,28,28"
      ]
    },
    {
      "cell_type": "code",
      "metadata": {
        "id": "40z-n2ssFXK3",
        "colab_type": "code",
        "outputId": "e22772fd-ccff-494b-89cc-17cb83a58f5d",
        "colab": {
          "base_uri": "https://localhost:8080/",
          "height": 176
        }
      },
      "source": [
        "deep = DeepCNN()\n",
        "out = deep(images)\n",
        "print(out.shape)\n",
        "\n",
        "sample = out[0,1,:,:]\n",
        "plt.figure(figsize = (2,2))\n",
        "plt.imshow(sample.detach().numpy())\n",
        "plt.show()"
      ],
      "execution_count": 0,
      "outputs": [
        {
          "output_type": "stream",
          "text": [
            "torch.Size([4, 5, 28, 28])\n"
          ],
          "name": "stdout"
        },
        {
          "output_type": "display_data",
          "data": {
            "image/png": "[encoded data removed]",
            "text/plain": [
              "<Figure size 144x144 with 1 Axes>"
            ]
          },
          "metadata": {
            "tags": [],
            "needs_background": "light"
          }
        }
      ]
    },
    {
      "cell_type": "code",
      "metadata": {
        "id": "flNys4_YGUUi",
        "colab_type": "code",
        "colab": {}
      },
      "source": [
        "#Mean Pool or Avg pool\n",
        "class avg_pool(nn.Module):\n",
        "  def __init__(self):\n",
        "    super(avg_pool,self).__init__()\n",
        "    self.model = nn.Sequential(nn.Conv2d(3,10,3),\n",
        "                              nn.Conv2d(10,5,3),\n",
        "                              nn.AvgPool2d(2, stride = 2)) # Kernel size, Stride\n",
        "    #Stride = 2 --> (2,2)\n",
        "    \n",
        "  def forward(self,x):\n",
        "    y = self.model(x)\n",
        "    return y"
      ],
      "execution_count": 0,
      "outputs": []
    },
    {
      "cell_type": "code",
      "metadata": {
        "id": "sC4syiAxGZV5",
        "colab_type": "code",
        "outputId": "5f1f5002-bf31-4175-8ef1-566cf3a562f3",
        "colab": {
          "base_uri": "https://localhost:8080/",
          "height": 174
        }
      },
      "source": [
        "avg = avg_pool()\n",
        "out = avg(images)\n",
        "print(out.shape)\n",
        "\n",
        "sample = out[0,1,:,:]\n",
        "plt.figure(figsize = (2,2))\n",
        "plt.imshow(sample.detach().numpy())\n",
        "plt.show()"
      ],
      "execution_count": 0,
      "outputs": [
        {
          "output_type": "stream",
          "text": [
            "torch.Size([4, 5, 14, 14])\n"
          ],
          "name": "stdout"
        },
        {
          "output_type": "display_data",
          "data": {
            "image/png": "[encoded data removed]",
            "text/plain": [
              "<Figure size 144x144 with 1 Axes>"
            ]
          },
          "metadata": {
            "tags": [],
            "needs_background": "light"
          }
        }
      ]
    },
    {
      "cell_type": "code",
      "metadata": {
        "id": "ch_V2EKkGhkH",
        "colab_type": "code",
        "colab": {}
      },
      "source": [
        "#Max Pool\n",
        "class max_pool(nn.Module):\n",
        "  def __init__(self):\n",
        "    super(max_pool,self).__init__()\n",
        "    self.model = nn.Sequential(nn.Conv2d(3,10,3),\n",
        "                              nn.Conv2d(10,5,3),\n",
        "                              nn.MaxPool2d(2, stride = 2)) # Kernel size, Stride\n",
        "    #Stride = 2 --> (2,2)\n",
        "    \n",
        "  def forward(self,x):\n",
        "    y = self.model(x)\n",
        "    return y"
      ],
      "execution_count": 0,
      "outputs": []
    },
    {
      "cell_type": "code",
      "metadata": {
        "id": "_DMbaibEGtrf",
        "colab_type": "code",
        "outputId": "725441a8-75de-4655-fda8-014564e53fdb",
        "colab": {
          "base_uri": "https://localhost:8080/",
          "height": 174
        }
      },
      "source": [
        "max_p = max_pool()\n",
        "out = max_p(images)\n",
        "print(out.shape)\n",
        "\n",
        "sample = out[0,1,:,:]\n",
        "plt.figure(figsize = (2,2))\n",
        "plt.imshow(sample.detach().numpy())\n",
        "plt.show()"
      ],
      "execution_count": 0,
      "outputs": [
        {
          "output_type": "stream",
          "text": [
            "torch.Size([4, 5, 14, 14])\n"
          ],
          "name": "stdout"
        },
        {
          "output_type": "display_data",
          "data": {
            "image/png": "[encoded data removed]",
            "text/plain": [
              "<Figure size 144x144 with 1 Axes>"
            ]
          },
          "metadata": {
            "tags": [],
            "needs_background": "light"
          }
        }
      ]
    },
    {
      "cell_type": "markdown",
      "metadata": {
        "id": "yRkH3dcDUOM6",
        "colab_type": "text"
      },
      "source": [
        "## CNN Layer\n",
        "\n",
        "[N,3,32,32]  N --> Batch Size\n",
        "\n",
        "      (N,3,32,32)    -->   (N,6,28,28)   -->   (N,6,14,14)   -->   (N,16,10,10)  -->  (N,16,5,5)\n",
        "     1st Conv Layer         Avg. Pool         2nd Conv Layer         Avg. Pool        Dense Layer\n",
        "      \n",
        "      kernel = 5           kernel = 2          kernel = 5          kernel = 2\n",
        "      stride = 1           stride = 2                              stride = 2\n",
        "\n",
        "Result of flattening --> (N,16*5*5) = (N,400) # N refers to number of images loaded in a batch\n",
        "\n",
        "Dense Layer 1: 120 Neurons\n",
        "\n",
        "Dense Layer 2: 84 Neurons\n",
        "\n",
        "Dense Layer 3: 10 Neurons"
      ]
    },
    {
      "cell_type": "code",
      "metadata": {
        "id": "Z0EIxtCKVKPV",
        "colab_type": "code",
        "colab": {}
      },
      "source": [
        "class LeNET(nn.Module):\n",
        "  def __init__(self):\n",
        "    super(LeNET,self).__init__()\n",
        "    self.conv_model = nn.Sequential(nn.Conv2d(in_channels=3,out_channels=6,kernel_size=5),   # (N,3,32,32) --> (N,6,28,28) \n",
        "                                    nn.Tanh(),                                               # TanH --> Activation Function\n",
        "                                    nn.AvgPool2d(kernel_size=2,stride=2),                    # (N,6,28,28) --> (N,6,14,14)\n",
        "                                    nn.Conv2d(6,16,5),nn.Tanh(),                             # (N,6,14,14) --> (N,16,10,10)\n",
        "                                    nn.AvgPool2d(2,stride=2))                                # (N,16,10,10) --> (N,16,5,5)\n",
        "\n",
        "    #Dense Layer\n",
        "    self.dense_layer = nn.Sequential(nn.Linear(in_features=400,out_features=120),           #16*5*5 = 400 as input\n",
        "                                     nn.Tanh(),\n",
        "                                     nn.Linear(120,84),\n",
        "                                     nn.Tanh(),\n",
        "                                     nn.Linear(84,10))\n",
        "  def forward(self,x):\n",
        "    y = self.conv_model(x)\n",
        "    #flatten the result from Conv model\n",
        "    y = torch.flatten(y,1) # 1 --> dimension (N,16,5,5)\n",
        "    y = self.dense_layer(y)\n",
        "    return y"
      ],
      "execution_count": 0,
      "outputs": []
    },
    {
      "cell_type": "code",
      "metadata": {
        "id": "6_eAOhuciPsN",
        "colab_type": "code",
        "outputId": "b3fa49cc-e108-428a-8344-57a1c0bec2a8",
        "colab": {
          "base_uri": "https://localhost:8080/",
          "height": 68
        }
      },
      "source": [
        "#understanding of torch.flattern\n",
        "x = torch.randn(6,50,50)\n",
        "print(\"Starts from index 0  :\",torch.flatten(x).shape)\n",
        "print(\"Starts from index 1  :\",torch.flatten(x,1).shape)\n",
        "print(\"Starts from index 2  :\",torch.flatten(x,2).shape)"
      ],
      "execution_count": 0,
      "outputs": [
        {
          "output_type": "stream",
          "text": [
            "Starts from index 0  : torch.Size([15000])\n",
            "Starts from index 1  : torch.Size([6, 2500])\n",
            "Starts from index 2  : torch.Size([6, 50, 50])\n"
          ],
          "name": "stdout"
        }
      ]
    },
    {
      "cell_type": "markdown",
      "metadata": {
        "id": "O6tReCGhmdKV",
        "colab_type": "text"
      },
      "source": [
        "# Downloading data "
      ]
    },
    {
      "cell_type": "markdown",
      "metadata": {
        "id": "3bvts1wcsh4t",
        "colab_type": "text"
      },
      "source": [
        "## Sample "
      ]
    },
    {
      "cell_type": "code",
      "metadata": {
        "id": "FfsIIICJmhCq",
        "colab_type": "code",
        "outputId": "a06fc060-d1a4-46de-e246-9740064bcd47",
        "colab": {
          "base_uri": "https://localhost:8080/",
          "height": 68
        }
      },
      "source": [
        "batch = 4\n",
        "trainset = torchvision.datasets.CIFAR10(root = './data', train = True, download = True, transform = torchvision.transforms.ToTensor())\n",
        "trainloader1 = torch.utils.data.DataLoader(trainset, batch_size = batch, shuffle = True)\n",
        "data_iter = iter(trainloader1)\n",
        "images,labels = data_iter.next()\n",
        "print(\"Shape of input  :\",images.shape)\n",
        "net = LeNET() \n",
        "out = net(images)\n",
        "print(\"Shape of Output :\",out.shape)"
      ],
      "execution_count": 0,
      "outputs": [
        {
          "output_type": "stream",
          "text": [
            "Files already downloaded and verified\n",
            "Shape of input  : torch.Size([4, 3, 32, 32])\n",
            "Shape of Output : torch.Size([4, 10])\n"
          ],
          "name": "stdout"
        }
      ]
    },
    {
      "cell_type": "code",
      "metadata": {
        "id": "sBgYNdhqrdoY",
        "colab_type": "code",
        "outputId": "556d1b9c-d099-4fa2-8a4b-47e9794965d9",
        "colab": {
          "base_uri": "https://localhost:8080/",
          "height": 85
        }
      },
      "source": [
        "# max value\n",
        "print(torch.max(out))\n",
        "# max value across each dimension, parameter --> 1\n",
        "print(torch.max(out,dim=1))\n",
        "max_val, preds = torch.max(out,dim=1)"
      ],
      "execution_count": 0,
      "outputs": [
        {
          "output_type": "stream",
          "text": [
            "tensor(0.1466, grad_fn=<MaxBackward1>)\n",
            "torch.return_types.max(\n",
            "values=tensor([0.1423, 0.1412, 0.1466, 0.1297], grad_fn=<MaxBackward0>),\n",
            "indices=tensor([8, 8, 8, 8]))\n"
          ],
          "name": "stdout"
        }
      ]
    },
    {
      "cell_type": "code",
      "metadata": {
        "id": "ZPe4Cgz7vTF9",
        "colab_type": "code",
        "outputId": "a63def97-251c-4edf-b3d5-333adbe15784",
        "colab": {
          "base_uri": "https://localhost:8080/",
          "height": 68
        }
      },
      "source": [
        "print(preds)\n",
        "print(labels)\n",
        "(preds==labels).sum().item()"
      ],
      "execution_count": 0,
      "outputs": [
        {
          "output_type": "stream",
          "text": [
            "tensor([8, 8, 8, 8])\n",
            "tensor([7, 8, 3, 9])\n"
          ],
          "name": "stdout"
        },
        {
          "output_type": "execute_result",
          "data": {
            "text/plain": [
              "1"
            ]
          },
          "metadata": {
            "tags": []
          },
          "execution_count": 35
        }
      ]
    },
    {
      "cell_type": "markdown",
      "metadata": {
        "id": "_Rc97bPisldy",
        "colab_type": "text"
      },
      "source": [
        "## Complete LeNet"
      ]
    },
    {
      "cell_type": "code",
      "metadata": {
        "id": "dJ02nqbVjstW",
        "colab_type": "code",
        "outputId": "587a632f-05ee-4928-eb96-62b895be6856",
        "colab": {
          "base_uri": "https://localhost:8080/",
          "height": 51
        }
      },
      "source": [
        "#define batch size\n",
        "batch = 256\n",
        "\n",
        "#create new train & test data with new batch size\n",
        "trainset = torchvision.datasets.CIFAR10(root = './data', train = True, download = True, transform = torchvision.transforms.ToTensor())\n",
        "trainloader = torch.utils.data.DataLoader(trainset, batch_size = batch, shuffle = True)\n",
        "\n",
        "testset = torchvision.datasets.CIFAR10(root = './data', train = False, download = True, transform = torchvision.transforms.ToTensor())\n",
        "testloader = torch.utils.data.DataLoader(testset, batch_size = batch, shuffle = False)\n",
        "#Setting the testloader with shuffle as False to measure test accuracy"
      ],
      "execution_count": 0,
      "outputs": [
        {
          "output_type": "stream",
          "text": [
            "Files already downloaded and verified\n",
            "Files already downloaded and verified\n"
          ],
          "name": "stdout"
        }
      ]
    },
    {
      "cell_type": "code",
      "metadata": {
        "id": "4GWwDj6yjFrQ",
        "colab_type": "code",
        "colab": {}
      },
      "source": [
        "net = LeNET() \n",
        "# defining Loss function\n",
        "loss_func = nn.CrossEntropyLoss()\n",
        "# defining optimizer\n",
        "optimizer = torch.optim.Adam(net.parameters()) "
      ],
      "execution_count": 0,
      "outputs": []
    },
    {
      "cell_type": "code",
      "metadata": {
        "id": "vSHRQWtJprNN",
        "colab_type": "code",
        "colab": {}
      },
      "source": [
        "def model_eval(dataloader):\n",
        "  total = 0\n",
        "  correct = 0\n",
        "  for data in dataloader:\n",
        "    images, lables = data\n",
        "    out = net(images)\n",
        "    max_val, preds = torch.max(out,dim=1)\n",
        "    #accuracy = (correctly predicted class / total testing class) × 100%\n",
        "    total += lables.shape[0]                   # class value \n",
        "    correct += (preds == lables).sum().item()  # to summ correct in the batch then sum all of it\n",
        "    accuracy = (100 * correct)/total\n",
        "  \n",
        "  return accuracy "
      ],
      "execution_count": 0,
      "outputs": []
    },
    {
      "cell_type": "code",
      "metadata": {
        "id": "1mCqR6PFvKrT",
        "colab_type": "code",
        "outputId": "34def924-397b-491c-b414-d705963f0153",
        "colab": {
          "base_uri": "https://localhost:8080/",
          "height": 442
        }
      },
      "source": [
        "epoch = 25\n",
        "\n",
        "for i in range(epoch):\n",
        "\n",
        "  for data in trainloader:\n",
        "    image_data , labels = data\n",
        "    optimizer.zero_grad() \n",
        "    out = net(image_data) #image_data --> input data\n",
        "\n",
        "  train_acc = model_eval(trainloader) \n",
        "  test_acc  = model_eval(testloader)\n",
        "\n",
        "  print(\"Epoch :\",i,\" Test Accuracy : \",test_acc,\" Train Accuracy : \",train_acc)"
      ],
      "execution_count": 0,
      "outputs": [
        {
          "output_type": "stream",
          "text": [
            "Epoch : 0  Test Accuracy :  10.0  Train Accuracy :  10.0\n",
            "Epoch : 1  Test Accuracy :  10.0  Train Accuracy :  10.0\n",
            "Epoch : 2  Test Accuracy :  10.0  Train Accuracy :  10.0\n",
            "Epoch : 3  Test Accuracy :  10.0  Train Accuracy :  10.0\n",
            "Epoch : 4  Test Accuracy :  10.0  Train Accuracy :  10.0\n",
            "Epoch : 5  Test Accuracy :  10.0  Train Accuracy :  10.0\n",
            "Epoch : 6  Test Accuracy :  10.0  Train Accuracy :  10.0\n",
            "Epoch : 7  Test Accuracy :  10.0  Train Accuracy :  10.0\n",
            "Epoch : 8  Test Accuracy :  10.0  Train Accuracy :  10.0\n",
            "Epoch : 9  Test Accuracy :  10.0  Train Accuracy :  10.0\n",
            "Epoch : 10  Test Accuracy :  10.0  Train Accuracy :  10.0\n",
            "Epoch : 11  Test Accuracy :  10.0  Train Accuracy :  10.0\n",
            "Epoch : 12  Test Accuracy :  10.0  Train Accuracy :  10.0\n",
            "Epoch : 13  Test Accuracy :  10.0  Train Accuracy :  10.0\n",
            "Epoch : 14  Test Accuracy :  10.0  Train Accuracy :  10.0\n",
            "Epoch : 15  Test Accuracy :  10.0  Train Accuracy :  10.0\n",
            "Epoch : 16  Test Accuracy :  10.0  Train Accuracy :  10.0\n",
            "Epoch : 17  Test Accuracy :  10.0  Train Accuracy :  10.0\n",
            "Epoch : 18  Test Accuracy :  10.0  Train Accuracy :  10.0\n",
            "Epoch : 19  Test Accuracy :  10.0  Train Accuracy :  10.0\n",
            "Epoch : 20  Test Accuracy :  10.0  Train Accuracy :  10.0\n",
            "Epoch : 21  Test Accuracy :  10.0  Train Accuracy :  10.0\n",
            "Epoch : 22  Test Accuracy :  10.0  Train Accuracy :  10.0\n",
            "Epoch : 23  Test Accuracy :  10.0  Train Accuracy :  10.0\n",
            "Epoch : 24  Test Accuracy :  10.0  Train Accuracy :  10.0\n"
          ],
          "name": "stdout"
        }
      ]
    }
  ]
}